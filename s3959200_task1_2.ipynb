{
 "cells": [
  {
   "cell_type": "markdown",
   "metadata": {},
   "source": [
    "# Assignment 1: Data Parsing, Cleansing and Integration\n",
    "## Task 1 and 2\n",
    "#### Student Name: Krishnakanth Srikanth\n",
    "#### Student ID: s3959200\n",
    "\n",
    "Date: 03/09/2023\n",
    "\n",
    "Version: 1.0\n",
    "\n",
    "Environment: Python 3 and Jupyter notebook\n",
    "\n",
    "Libraries used:\n",
    "* pandas\n",
    "* re\n",
    "* numpy\n",
    "* xml.etree.ElementTree\n",
    "* datetime\n",
    "* warnings\n",
    "\n",
    "## Introduction\n",
    "\n",
    "In this assessment task, a xml file 's3959200_dataset1.xml which is the input is to be read, cleaned, analyzed and exported to a new csv file 's3959200_dataset1_solution.csv'. Also, the errors that are corrected had to be listed out and exported to a csv file 's3959200_errorlist.csv'. To achieve this, the read xml file is first converted into a dataframe. The problems that were faced here were missing values, present of invalid characters, incorrect datatypes, typos, outliers, irregularities in the data. These were rectified in appropriate ways like replacing 'nan' values to 'non-specified' as per the requirement, to handle invalid characters in the column a function is created which takes help of the regex patterns to get the desired results, covert the datatypes as per the requirement. The outliers in this case, though present, were ignored because '_Salary of each person would not be the same or constant_'. Incorrect spellings or typos are looked after by replacing them with correct words. All these errors and the measures taken to fix them, were recorded to a dataframe by creating a function. Finally, once the dataset is error free, it is exported to the csv file '__s3959200_dataset1_solution.csv__' which would be the input for the task 3. The error file is also exported to '__s3959200_errorlist.csv__'. The datatypes are checked to match the requirement.\n",
    "\n",
    "<span style=\"color: red\"> Note that this is a sample notebook only. You will need to fill in the proper markdown and code blocks. You might also want to make necessary changes to the structure to meet your own needs. Note also that any generic comments written in this notebook are to be removed and replace with your own words.</span>"
   ]
  },
  {
   "cell_type": "markdown",
   "metadata": {},
   "source": [
    "## Importing libraries "
   ]
  },
  {
   "cell_type": "code",
   "execution_count": 1,
   "metadata": {},
   "outputs": [],
   "source": [
    "# Code to import libraries as you need in this assessment, e.g.,\n",
    "import numpy as np\n",
    "import pandas as pd\n",
    "pd.set_option('display.max_columns', None) # Display all columns\n",
    "import xml.etree.ElementTree as etree\n",
    "import re\n",
    "from datetime import datetime\n",
    "import warnings\n",
    "warnings.filterwarnings(\"ignore\") # To ignore warnings"
   ]
  },
  {
   "cell_type": "markdown",
   "metadata": {},
   "source": [
    "## Task 1. Parsing Data"
   ]
  },
  {
   "cell_type": "markdown",
   "metadata": {},
   "source": [
    "### 1.1. Examining and loading data\n",
    "Examine \"\\<student\\_id\\>_dataset1.xml\" to determine its content and structure, then load it into Python. Explain your findings here, e.g., how are the records are stored? "
   ]
  },
  {
   "cell_type": "markdown",
   "metadata": {},
   "source": [
    "In this step, the input xml file is read using pandas library **etree** and saved in a variable '__xml_data__' which is later used for data cleaning and analysis."
   ]
  },
  {
   "cell_type": "code",
   "execution_count": 2,
   "metadata": {},
   "outputs": [
    {
     "name": "stdout",
     "output_type": "stream",
     "text": [
      "<xml.etree.ElementTree.ElementTree object at 0x00000208C4476E50>\n"
     ]
    }
   ],
   "source": [
    "# Code to inspect the provided data file\n",
    "# Couple of notes for all code block in this notebook\n",
    "## please provide proper comment on your code\n",
    "## Please re-start and run all cells to make sure codes are runable and include your output in the submission\n",
    "xml_data = etree.parse(\"./s3959200_dataset1.xml\")\n",
    "print(xml_data)"
   ]
  },
  {
   "cell_type": "code",
   "execution_count": 3,
   "metadata": {},
   "outputs": [
    {
     "data": {
      "text/plain": [
       "'Jobs'"
      ]
     },
     "execution_count": 3,
     "metadata": {},
     "output_type": "execute_result"
    }
   ],
   "source": [
    "# To check the root tag\n",
    "root = xml_data.getroot()     \n",
    "root.tag"
   ]
  },
  {
   "cell_type": "code",
   "execution_count": 4,
   "metadata": {},
   "outputs": [
    {
     "data": {
      "text/plain": [
       "107"
      ]
     },
     "execution_count": 4,
     "metadata": {},
     "output_type": "execute_result"
    }
   ],
   "source": [
    "# Find the length of the root \n",
    "len(root)"
   ]
  },
  {
   "cell_type": "code",
   "execution_count": 5,
   "metadata": {},
   "outputs": [
    {
     "data": {
      "text/plain": [
       "<Element 'Src' at 0x00000208CC5B9D60>"
      ]
     },
     "execution_count": 5,
     "metadata": {},
     "output_type": "execute_result"
    }
   ],
   "source": [
    "# Find the first element in the root\n",
    "root[0]"
   ]
  },
  {
   "cell_type": "code",
   "execution_count": 6,
   "metadata": {},
   "outputs": [
    {
     "data": {
      "text/plain": [
       "<Element 'Record' at 0x00000208CC5B9DB0>"
      ]
     },
     "execution_count": 6,
     "metadata": {},
     "output_type": "execute_result"
    }
   ],
   "source": [
    "# Find the first tag inside the root's first element\n",
    "root[0][0]"
   ]
  },
  {
   "cell_type": "code",
   "execution_count": 7,
   "metadata": {},
   "outputs": [
    {
     "name": "stdout",
     "output_type": "stream",
     "text": [
      "<Element 'Id' at 0x00000208CC5B9E00>\n",
      "<Element 'Title' at 0x00000208CC5B9E50>\n",
      "<Element 'Location' at 0x00000208CC5B9EF0>\n",
      "<Element 'Company' at 0x00000208CC5B9F40>\n",
      "<Element 'ContractType' at 0x00000208CC5BC040>\n",
      "<Element 'ContractTime' at 0x00000208CC5BC090>\n",
      "<Element 'Category' at 0x00000208CC5BC0E0>\n",
      "<Element 'Salary' at 0x00000208CC5BC130>\n",
      "<Element 'Date' at 0x00000208CC5BC180>\n"
     ]
    }
   ],
   "source": [
    "# Look out for tags inside 'Record'\n",
    "for tags in root[0][0]:\n",
    "    print(tags)"
   ]
  },
  {
   "cell_type": "code",
   "execution_count": 8,
   "metadata": {},
   "outputs": [],
   "source": [
    "# dataFromXml = {}\n",
    "# dataFromXml['Id'] = []\n",
    "# dataFromXml['Title'] = []\n",
    "# dataFromXml['Location'] = []\n",
    "# dataFromXml['Company'] = []\n",
    "# dataFromXml['ContractType'] = []\n",
    "# dataFromXml['ContractTime'] = []\n",
    "# dataFromXml['Category'] = []\n",
    "# dataFromXml['Salary'] = []\n",
    "# dataFromXml['openDate'] = []\n",
    "# dataFromXml['closeDate'] = []"
   ]
  },
  {
   "cell_type": "markdown",
   "metadata": {},
   "source": [
    "### 1.2 Parsing data into the required format"
   ]
  },
  {
   "cell_type": "markdown",
   "metadata": {},
   "source": [
    "In here, the read xml file is created as a pandas dataframe by iterating through the tags in the xml and storing the values of the respective tags in the respective lists created."
   ]
  },
  {
   "cell_type": "markdown",
   "metadata": {},
   "source": [
    "<span style=\"color: red\"> You might have complex notebook structure in this section, please feel free to create your own notebook structure. </span>"
   ]
  },
  {
   "cell_type": "code",
   "execution_count": 9,
   "metadata": {},
   "outputs": [],
   "source": [
    "# Code to parse data\n",
    "SourceName = []\n",
    "ID = []\n",
    "Title =[]\n",
    "Location = []\n",
    "Company = []\n",
    "ContractType = []\n",
    "ContractTime = []\n",
    "Category =[]\n",
    "Salary =[]\n",
    "OpenDate = []\n",
    "CloseDate = []\n",
    "\n",
    "for tags in root.findall('Src'):\n",
    "    for rec in tags.findall('Record'):\n",
    "        # Source Name\n",
    "        src_att = tags.attrib['SrcName']\n",
    "        #dataFromXml['SourceName'].append(src_att)\n",
    "        SourceName.append(src_att)\n",
    "        # ID\n",
    "        id_att=rec.find('Id')\n",
    "        #dataFromXml['ID'].append(id_att.text)\n",
    "        ID.append(id_att.text)\n",
    "        \n",
    "        # Title\n",
    "        title_att = rec.find('Title')\n",
    "        #dataFromXml['Title'].append(title_att.text)\n",
    "        Title.append(title_att.text)\n",
    "        \n",
    "        # Location\n",
    "        location_att = rec.find('Location')\n",
    "        #dataFromXml['Location'].append(location_att.text)\n",
    "        Location.append(location_att.text)\n",
    "        \n",
    "        # Company\n",
    "        company_att = rec.find('Company')\n",
    "        #dataFromXml['Company'].append(company_att.text)\n",
    "        if company_att is None:\n",
    "            #dataFromXml['Company'].append(\"\")\n",
    "            Company.append(\"\")\n",
    "        else:\n",
    "            #dataFromXml['Company'].append(company_att.text)\n",
    "            Company.append(company_att.text)\n",
    "\n",
    "        # Contract Type\n",
    "        contractType_att = rec.find('ContractType')\n",
    "        #dataFromXml['ContractType'].append(contractType_att.text)\n",
    "        if contractType_att is None:\n",
    "            #dataFromXml['ContractType'].append(\"\")\n",
    "            ContractType.append(\"\")\n",
    "        else:\n",
    "            #dataFromXml['ContractType'].append(contractType_att.text)\n",
    "            ContractType.append(contractType_att.text)\n",
    "            \n",
    "        # Contract Time\n",
    "        contractTime_att = rec.find('ContractTime')\n",
    "        #dataFromXml['ContractTime'].append(contractTime_att.text)\n",
    "        if contractTime_att is None:\n",
    "            #dataFromXml['ContractTime'].append(\"\")\n",
    "            ContractTime.append(\"\")\n",
    "        else:\n",
    "            #dataFromXml['ContractTime'].append(contractTime_att.text)\n",
    "            ContractTime.append(contractTime_att.text)\n",
    "            \n",
    "        # Category\n",
    "        category_att = rec.find('Category')\n",
    "        #dataFromXml['Category'].append(category_att.text)\n",
    "        if category_att is None:\n",
    "            #dataFromXml['Category'].append(\"\")\n",
    "            Category.append(\"\")\n",
    "        else:\n",
    "            #dataFromXml['Category'].append(category_att.text)\n",
    "            Category.append(category_att.text)\n",
    "            \n",
    "        # Salary\n",
    "        salary_att = rec.find('Salary')\n",
    "        #dataFromXml['Salary'].append(salary_att.text)\n",
    "        if salary_att is None:\n",
    "            #dataFromXml['Salary'].append(\"\")\n",
    "            Salary.append(\"\")\n",
    "        else:\n",
    "            #dataFromXml['Salary'].append(salary_att.text)\n",
    "            Salary.append(salary_att.text)\n",
    "            \n",
    "        # Open Date\n",
    "        for date_att in rec.findall('Date'):\n",
    "            openDate=date_att.find('OpenDate')\n",
    "            #dataFromXml['OpenDate'].append(openDate.text)\n",
    "            OpenDate.append(openDate.text)\n",
    "            \n",
    "        # CLose Date\n",
    "        for date_att in rec.findall('Date'):\n",
    "            closeDate=date_att.find('CloseDate')\n",
    "            #dataFromXml['CloseDate'].append(closeDate.text)\n",
    "            CloseDate.append(closeDate.text)"
   ]
  },
  {
   "cell_type": "code",
   "execution_count": 10,
   "metadata": {},
   "outputs": [
    {
     "data": {
      "text/html": [
       "<div>\n",
       "<style scoped>\n",
       "    .dataframe tbody tr th:only-of-type {\n",
       "        vertical-align: middle;\n",
       "    }\n",
       "\n",
       "    .dataframe tbody tr th {\n",
       "        vertical-align: top;\n",
       "    }\n",
       "\n",
       "    .dataframe thead th {\n",
       "        text-align: right;\n",
       "    }\n",
       "</style>\n",
       "<table border=\"1\" class=\"dataframe\">\n",
       "  <thead>\n",
       "    <tr style=\"text-align: right;\">\n",
       "      <th></th>\n",
       "      <th>Id</th>\n",
       "      <th>Title</th>\n",
       "      <th>Location</th>\n",
       "      <th>Company</th>\n",
       "      <th>ContractType</th>\n",
       "      <th>ContractTime</th>\n",
       "      <th>Category</th>\n",
       "      <th>Salary</th>\n",
       "      <th>OpenDate</th>\n",
       "      <th>CloseDate</th>\n",
       "      <th>SourceName</th>\n",
       "    </tr>\n",
       "  </thead>\n",
       "  <tbody>\n",
       "    <tr>\n",
       "      <th>0</th>\n",
       "      <td>63129905</td>\n",
       "      <td>Nursery Nurse, Liverpool</td>\n",
       "      <td>Liverpool</td>\n",
       "      <td>Caring Services NW</td>\n",
       "      <td>full_time</td>\n",
       "      <td>contract</td>\n",
       "      <td>Teaching Jobs</td>\n",
       "      <td>12480</td>\n",
       "      <td>20130917T150000</td>\n",
       "      <td>20131116T150000</td>\n",
       "      <td>fish4.co.uk</td>\n",
       "    </tr>\n",
       "    <tr>\n",
       "      <th>1</th>\n",
       "      <td>69830611</td>\n",
       "      <td>Money/Welfare Advice Workers (x****)</td>\n",
       "      <td>UK</td>\n",
       "      <td></td>\n",
       "      <td>full_time</td>\n",
       "      <td>contract</td>\n",
       "      <td>Accounting &amp; Finance Jobs</td>\n",
       "      <td>24700</td>\n",
       "      <td>20121230T120000</td>\n",
       "      <td>20130228T120000</td>\n",
       "      <td>fish4.co.uk</td>\n",
       "    </tr>\n",
       "    <tr>\n",
       "      <th>2</th>\n",
       "      <td>69219032</td>\n",
       "      <td>Senior Design Engineer  up to ****</td>\n",
       "      <td>UK</td>\n",
       "      <td>Huxley Associates</td>\n",
       "      <td>full_time</td>\n",
       "      <td>permanent</td>\n",
       "      <td>Engineering Jobs</td>\n",
       "      <td>37500</td>\n",
       "      <td>20120903T150000</td>\n",
       "      <td>20121202T150000</td>\n",
       "      <td>fish4.co.uk</td>\n",
       "    </tr>\n",
       "  </tbody>\n",
       "</table>\n",
       "</div>"
      ],
      "text/plain": [
       "         Id                                 Title   Location  \\\n",
       "0  63129905              Nursery Nurse, Liverpool  Liverpool   \n",
       "1  69830611  Money/Welfare Advice Workers (x****)         UK   \n",
       "2  69219032    Senior Design Engineer  up to ****         UK   \n",
       "\n",
       "              Company ContractType ContractTime                   Category  \\\n",
       "0  Caring Services NW    full_time     contract              Teaching Jobs   \n",
       "1                        full_time     contract  Accounting & Finance Jobs   \n",
       "2   Huxley Associates    full_time    permanent           Engineering Jobs   \n",
       "\n",
       "  Salary         OpenDate        CloseDate   SourceName  \n",
       "0  12480  20130917T150000  20131116T150000  fish4.co.uk  \n",
       "1  24700  20121230T120000  20130228T120000  fish4.co.uk  \n",
       "2  37500  20120903T150000  20121202T150000  fish4.co.uk  "
      ]
     },
     "execution_count": 10,
     "metadata": {},
     "output_type": "execute_result"
    }
   ],
   "source": [
    "# Creating a dataframe\n",
    "data_df = pd.DataFrame(columns=['Id', 'Title', 'Location', 'Company', 'ContractType', 'ContractTime', 'Category', 'Salary', 'OpenDate', 'CloseDate', 'SourceName'])\n",
    "\n",
    "data_df['Id'] = ID\n",
    "data_df['Title'] =Title\n",
    "data_df['Location'] = Location\n",
    "data_df['Company'] = Company\n",
    "data_df['ContractType'] = ContractType\n",
    "data_df['ContractTime'] = ContractTime\n",
    "data_df['Category'] = Category\n",
    "data_df['Salary'] = Salary\n",
    "data_df['OpenDate'] = OpenDate\n",
    "data_df['CloseDate'] = CloseDate\n",
    "data_df['SourceName'] = SourceName\n",
    "data_df.head(3)"
   ]
  },
  {
   "cell_type": "markdown",
   "metadata": {},
   "source": [
    "......"
   ]
  },
  {
   "cell_type": "markdown",
   "metadata": {},
   "source": [
    "## Task 2. Auditing and cleansing the loaded data\n",
    "\n",
    "Here, you should write your own code to audit data, identify data problems and to fix them. You are also required to record the errors found and fixings in an error list.\n",
    "\n",
    "<span style=\"color: red\"> You might have complex notebook structure in this section, please feel free to create your own notebook structure. </span>"
   ]
  },
  {
   "cell_type": "markdown",
   "metadata": {},
   "source": [
    "In this step, a function is created to update the errors and the fix that has made to rectify the errors. The output of this function is saved as a dataframe."
   ]
  },
  {
   "cell_type": "code",
   "execution_count": 11,
   "metadata": {
    "scrolled": false
   },
   "outputs": [],
   "source": [
    "# Code to audit data\n",
    "\n",
    "# Creating a function to update errors and its solution\n",
    "item_error_list_update = ['indexOfdf', 'Id', 'ColumnName', 'Original', 'Modified', 'ErrorType', 'Fixing']\n",
    "error_list = pd.DataFrame(columns=item_error_list_update)\n",
    "def updateErrorList(indexOfdf, Id, ColumnName, Original, Modified, ErrorType, Fixing):\n",
    "    errored_item=[indexOfdf, Id, ColumnName, Original, Modified, ErrorType, Fixing]\n",
    "    error_list.loc[len(error_list)]=errored_item"
   ]
  },
  {
   "cell_type": "markdown",
   "metadata": {},
   "source": [
    "##### Error 1: Checking for any non-character value in the dataframe"
   ]
  },
  {
   "cell_type": "code",
   "execution_count": 12,
   "metadata": {},
   "outputs": [
    {
     "data": {
      "text/plain": [
       "array(['full_time', 'part_time', '', ' ', 'N/A', '-'], dtype=object)"
      ]
     },
     "execution_count": 12,
     "metadata": {},
     "output_type": "execute_result"
    }
   ],
   "source": [
    "data_df['ContractType'].unique()"
   ]
  },
  {
   "cell_type": "code",
   "execution_count": 13,
   "metadata": {},
   "outputs": [
    {
     "data": {
      "text/plain": [
       "array(['contract', 'permanent', '', ' ', 'N/A', '-'], dtype=object)"
      ]
     },
     "execution_count": 13,
     "metadata": {},
     "output_type": "execute_result"
    }
   ],
   "source": [
    "data_df['ContractTime'].unique()"
   ]
  },
  {
   "cell_type": "code",
   "execution_count": 14,
   "metadata": {},
   "outputs": [],
   "source": [
    "data_df.replace(['',' ','-','N/A'], np.nan, inplace=True)"
   ]
  },
  {
   "cell_type": "code",
   "execution_count": 15,
   "metadata": {},
   "outputs": [],
   "source": [
    "# Error list update\n",
    "updateErrorList('ALL','ALL','ALL',\"'',' ','-','N/A'\",'nan','Invalid values','Replaced invalid values to nan')"
   ]
  },
  {
   "cell_type": "markdown",
   "metadata": {},
   "source": [
    "##### Error 2: Checking for any null or missing values in the dataframe"
   ]
  },
  {
   "cell_type": "code",
   "execution_count": 16,
   "metadata": {},
   "outputs": [
    {
     "data": {
      "text/plain": [
       "Id                  0\n",
       "Title               0\n",
       "Location            0\n",
       "Company          4935\n",
       "ContractType    38082\n",
       "ContractTime    14101\n",
       "Category            0\n",
       "Salary           2368\n",
       "OpenDate            0\n",
       "CloseDate           0\n",
       "SourceName          0\n",
       "dtype: int64"
      ]
     },
     "execution_count": 16,
     "metadata": {},
     "output_type": "execute_result"
    }
   ],
   "source": [
    "data_df.isnull().sum()"
   ]
  },
  {
   "cell_type": "code",
   "execution_count": 17,
   "metadata": {},
   "outputs": [],
   "source": [
    "# Replacing Nan in Company to 'non-specified'\n",
    "data_df['Company'].fillna('non-specified', inplace=True)\n",
    "# Replacing '.', '21', '591' in Company to 'non-specified' as these are not a valid company name\n",
    "data_df['Company'] = data_df['Company'].apply(lambda company : 'non-specified' if company == '.' else company)\n",
    "data_df['Company'] = data_df['Company'].apply(lambda company : 'non-specified' if company == '21' else company)\n",
    "data_df['Company'] = data_df['Company'].apply(lambda company : 'non-specified' if company == '591' else company)\n",
    "\n",
    "# Error list update\n",
    "updateErrorList('ALL','ALL','Company',\"nan\",'non-specified','Inconsistent value','Replaced nan values to non-specified')\n",
    "updateErrorList('49356', '68849372', 'Company', '.', 'non-specified', 'Inconsistent value','Replaced . to non-specified')\n",
    "updateErrorList('26154', '71276943', 'Company', '21', 'non-specified', 'Not a valid company name','Replaced \"21\" to non-specified')\n",
    "updateErrorList('27225', '69473555', 'Company', '591', 'non-specified', 'Not a valid company name','Replaced \"591\" to non-specified')"
   ]
  },
  {
   "cell_type": "code",
   "execution_count": 18,
   "metadata": {},
   "outputs": [],
   "source": [
    "# Replacing Nan in ContractType to 'non-specified'\n",
    "data_df['ContractType'].fillna('non-specified', inplace=True)\n",
    "# Error list update\n",
    "updateErrorList('ALL','ALL','ContractType',\"nan\",'non-specified','Inconsistent value','Replaced nan values to non-specified')"
   ]
  },
  {
   "cell_type": "code",
   "execution_count": 19,
   "metadata": {},
   "outputs": [],
   "source": [
    "# Replacing Nan in ContractTime to 'non-specified'\n",
    "data_df['ContractTime'].fillna('non-specified', inplace=True)\n",
    "# Error list update\n",
    "updateErrorList('ALL','ALL','ContractTime',\"nan\",'non-specified','Inconsistent value','Replaced nan values to non-specified')"
   ]
  },
  {
   "cell_type": "code",
   "execution_count": 20,
   "metadata": {},
   "outputs": [],
   "source": [
    "# Imputing values to Salary column replacing Nan values\n",
    "data_df['Salary'].fillna(method='ffill', inplace=True)\n",
    "# Error list update\n",
    "updateErrorList('ALL','ALL','Salary',\"nan\",'Value from previous ID','Inconsistent value','Replaced nan values with values from previous ID')"
   ]
  },
  {
   "cell_type": "code",
   "execution_count": 21,
   "metadata": {},
   "outputs": [
    {
     "data": {
      "text/plain": [
       "Id              0\n",
       "Title           0\n",
       "Location        0\n",
       "Company         0\n",
       "ContractType    0\n",
       "ContractTime    0\n",
       "Category        0\n",
       "Salary          0\n",
       "OpenDate        0\n",
       "CloseDate       0\n",
       "SourceName      0\n",
       "dtype: int64"
      ]
     },
     "execution_count": 21,
     "metadata": {},
     "output_type": "execute_result"
    }
   ],
   "source": [
    "data_df.isna().sum()"
   ]
  },
  {
   "cell_type": "markdown",
   "metadata": {},
   "source": [
    "##### Error 3: Checking the datatypes of the columns in the dataframe"
   ]
  },
  {
   "cell_type": "code",
   "execution_count": 22,
   "metadata": {},
   "outputs": [
    {
     "data": {
      "text/plain": [
       "Id              object\n",
       "Title           object\n",
       "Location        object\n",
       "Company         object\n",
       "ContractType    object\n",
       "ContractTime    object\n",
       "Category        object\n",
       "Salary          object\n",
       "OpenDate        object\n",
       "CloseDate       object\n",
       "SourceName      object\n",
       "dtype: object"
      ]
     },
     "execution_count": 22,
     "metadata": {},
     "output_type": "execute_result"
    }
   ],
   "source": [
    "data_df.dtypes"
   ]
  },
  {
   "cell_type": "markdown",
   "metadata": {},
   "source": [
    "###### Error 3.1: Checking for column 'Id'"
   ]
  },
  {
   "cell_type": "code",
   "execution_count": 23,
   "metadata": {},
   "outputs": [],
   "source": [
    "# Converting datatype of column 'ID'\n",
    "data_df['Id'] = data_df['Id'].astype('int')\n",
    "# Error list update\n",
    "updateErrorList('ALL','ALL','Id',\"Object Datatype\",'Integer Datatype','Incorrect Datatype','Replaced Object datatype to Integer')"
   ]
  },
  {
   "cell_type": "code",
   "execution_count": 24,
   "metadata": {},
   "outputs": [],
   "source": [
    "# # Function to convert 'Salary' column to float\n",
    "\n",
    "# # dummy = {'col': ['12345', '123 To 231', '111 To 222', '222']}\n",
    "# # dummy_df = pd.DataFrame(dummy)\n",
    "\n",
    "# def salary_convertor(salary):\n",
    "#     #print(salary, type(salary))\n",
    "#     pattern = re.findall(r'\\d+', salary)\n",
    "#     #print(pattern)\n",
    "#     salary_float = [float(sal) for sal in pattern]\n",
    "#     #print('sal float:', salary_float)\n",
    "\n",
    "#     if len(salary_float) == 2:\n",
    "#         #print('-----------------')\n",
    "#         #print('sal float[0]:', salary_float[0])\n",
    "#         #print('salary_float[1]:', salary_float[1])\n",
    "#         return round((salary_float[0] + salary_float[1]) / 2, 2)\n",
    "#     else:\n",
    "#         #print('not in if:', salary)\n",
    "#         return round(salary_float[0], 2)\n",
    "\n",
    "# # Applying the function to Salary column\n",
    "# #dummy['col'] = dummy['df'].apply(salary_convertor)\n",
    "# data_df['Salary'] = data_df['Salary'].apply(salary_convertor)\n",
    "\n",
    "# # Error list update\n",
    "# updateErlist('ALL','ALL','Salary',\"Values of type 'xxx To yyy'\",'Float value','Incorrect value/Datatype','Replaced incorrect values to Float values')\n",
    "# updateErlist('ALL','ALL','Salary',\"Object Datatype\",'Float Datatype','Incorrect Datatype','Replaced Object Datatype to Float Datatype')"
   ]
  },
  {
   "cell_type": "markdown",
   "metadata": {},
   "source": [
    "###### Error 3.2: Checking for column 'Salary'"
   ]
  },
  {
   "cell_type": "code",
   "execution_count": 25,
   "metadata": {},
   "outputs": [],
   "source": [
    "# Function to correct 'Salary' column and converting to float\n",
    "def salary_generator(df):\n",
    "    salary = df['Salary']\n",
    "#     if not salary:\n",
    "#         salary = 0\n",
    "#         return 0\n",
    "#    print(salary)\n",
    "    \n",
    "    # Case 1: Extract num from 'Salary' with format num - num or num ~ num\n",
    "    pattern = re.fullmatch(r'(\\d+\\.?\\d*) {1,2}[-~] {1,2}(\\d+\\.?\\d*)', salary)\n",
    "    if pattern:\n",
    "        updateErrorList(df.name, df.Id, 'Salary', 'num -|~ num', 'num', 'Invalid data', 'Fixed the incorrect data and converted string to integer')\n",
    "        return round((float(pattern.group(1)) + float(pattern.group(2)) / 2), 2)\n",
    "        \n",
    "    # Case 2: Extract num from 'Salary' with format num To num\n",
    "    pattern = re.fullmatch(r'(\\d+\\.?\\d*) To (\\d+\\.?\\d*)', salary)\n",
    "    if pattern:\n",
    "        updateErrorList(df.name, df.Id, 'Salary', 'num TO num', 'num', 'Invalid data', 'Fixed the incorrect data and converted string to integer')\n",
    "        return round((float(pattern.group(1)) + float(pattern.group(2)) / 2), 2)\n",
    "        \n",
    "    # Case 3: Extract num from 'Salary' with formats like per Year, per year, per Anum, per anum, pa\n",
    "    pattern = re.fullmatch(r'(\\d+\\.?\\d*)(?: ?per [aA]num| pa|[/\\\\][yY]ear| ?per [Yy]ear)', salary)\n",
    "    if pattern:\n",
    "        updateErrorList(df.name, df.Id, 'Salary', '(?: ?per [aA]num| pa|[/\\\\][yY]ear| ?per [Yy]ear)', 'num', 'Invalid data', 'Fixed the incorrect data and converted string to integer')\n",
    "        return float(pattern.group(1))\n",
    "        \n",
    "    # Case 4: Extract num from 'Salary' with format num.num p/hr\n",
    "    pattern = re.fullmatch(r'(\\d+\\.?\\d*)(?: p.{1,4}h.*)', salary)\n",
    "    if pattern:\n",
    "        updateErrorList(df.name, df.Id, 'Salary', '(?: p.{1,4}h.*)', 'num', 'Invalid data', 'Fixed the incorrect data and converted string to integer')\n",
    "        return round((float(pattern.group(1)) * 37.5 * 52), 2)\n",
    "        \n",
    "    # Case 5: Extract num from 'Salary' with formats per hour, per Hour, p/h\n",
    "    pattern = re.fullmatch(r'(\\d+\\.?\\d*)(?: ?per [Hh]our| ?p/h)', salary)\n",
    "    if pattern:\n",
    "        updateErrorList(df.name, df.Id, 'Salary', '(?: ?per [Hh]our| ?p/h)', 'num', 'Invalid data', 'Fixed the incorrect data and converted string to integer')\n",
    "        return round((float(pattern.group(1)) * 37.5 * 52), 2)\n",
    "    \n",
    "    # Case 6: Extract num from 'Salary' with format num.something\n",
    "    pattern = re.fullmatch(r'(\\d+\\.?\\d?)', salary)\n",
    "    if pattern:\n",
    "        updateErrorList(df.name, df.Id, 'Salary', '(\\d+\\.?\\d?)', 'num', 'Invalid data', 'Fixed the incorrect data and converted string to integer')\n",
    "        return float(pattern.group(1))\n",
    "        \n",
    "    # Case 7: Extract num from 'Salary' with format numK\n",
    "    pattern = re.fullmatch(r'(\\d+)K', salary)\n",
    "    if pattern:\n",
    "        updateErrorList(df.name, df.Id, 'Salary', '(\\d+)K', 'num', 'Invalid data', 'Fixed the incorrect data and converted string to integer')\n",
    "        return round((float(pattern.group(1)) * 1000), 2)"
   ]
  },
  {
   "cell_type": "code",
   "execution_count": 26,
   "metadata": {},
   "outputs": [],
   "source": [
    "data_df['Salary'] = data_df.apply(salary_generator, axis=1)"
   ]
  },
  {
   "cell_type": "markdown",
   "metadata": {},
   "source": [
    "##### Error 4: Checking for Irregularities in columns 'OpenDate' and 'CloseDate' and converting its datatype"
   ]
  },
  {
   "cell_type": "code",
   "execution_count": 27,
   "metadata": {},
   "outputs": [],
   "source": [
    "# OpenDate and CLoseDate\n",
    "data_df['OpenDate'] = data_df['OpenDate'].replace('T', '', regex=True)\n",
    "data_df['CloseDate'] = data_df['CloseDate'].replace('T', '', regex=True)\n",
    "updateErrorList('ALL', 'ALL', 'OpenDate', 'T', '', 'Invalid data', 'Removed T from the string')\n",
    "updateErrorList('ALL', 'ALL', 'CloseDate', 'T', '', 'Invalid data', 'Removed T from the string')"
   ]
  },
  {
   "cell_type": "code",
   "execution_count": 28,
   "metadata": {},
   "outputs": [
    {
     "name": "stdout",
     "output_type": "stream",
     "text": [
      "14 34728\n"
     ]
    }
   ],
   "source": [
    "# Checking for Irregularities/Impossible value in 'OpenDate'\n",
    "for i,j in enumerate(data_df['OpenDate']):\n",
    "    if int(j[4:6]) > 12:\n",
    "        print(j[4:6], i)"
   ]
  },
  {
   "cell_type": "code",
   "execution_count": 29,
   "metadata": {},
   "outputs": [
    {
     "data": {
      "text/plain": [
       "71095186"
      ]
     },
     "execution_count": 29,
     "metadata": {},
     "output_type": "execute_result"
    }
   ],
   "source": [
    "# Getting ID for the index\n",
    "data_df['Id'][34728]"
   ]
  },
  {
   "cell_type": "code",
   "execution_count": 30,
   "metadata": {},
   "outputs": [
    {
     "data": {
      "text/html": [
       "<div>\n",
       "<style scoped>\n",
       "    .dataframe tbody tr th:only-of-type {\n",
       "        vertical-align: middle;\n",
       "    }\n",
       "\n",
       "    .dataframe tbody tr th {\n",
       "        vertical-align: top;\n",
       "    }\n",
       "\n",
       "    .dataframe thead th {\n",
       "        text-align: right;\n",
       "    }\n",
       "</style>\n",
       "<table border=\"1\" class=\"dataframe\">\n",
       "  <thead>\n",
       "    <tr style=\"text-align: right;\">\n",
       "      <th></th>\n",
       "      <th>Id</th>\n",
       "      <th>Title</th>\n",
       "      <th>Location</th>\n",
       "      <th>Company</th>\n",
       "      <th>ContractType</th>\n",
       "      <th>ContractTime</th>\n",
       "      <th>Category</th>\n",
       "      <th>Salary</th>\n",
       "      <th>OpenDate</th>\n",
       "      <th>CloseDate</th>\n",
       "      <th>SourceName</th>\n",
       "    </tr>\n",
       "  </thead>\n",
       "  <tbody>\n",
       "    <tr>\n",
       "      <th>34728</th>\n",
       "      <td>71095186</td>\n",
       "      <td>RGN  Maidstone</td>\n",
       "      <td>Maidstone</td>\n",
       "      <td>Team 24 Ltd</td>\n",
       "      <td>full_time</td>\n",
       "      <td>non-specified</td>\n",
       "      <td>Healthcare &amp; Nursing Jobs</td>\n",
       "      <td>24000.0</td>\n",
       "      <td>20121403150000</td>\n",
       "      <td>20120612150000</td>\n",
       "      <td>staffnurse.com</td>\n",
       "    </tr>\n",
       "  </tbody>\n",
       "</table>\n",
       "</div>"
      ],
      "text/plain": [
       "             Id           Title   Location      Company ContractType  \\\n",
       "34728  71095186  RGN  Maidstone  Maidstone  Team 24 Ltd    full_time   \n",
       "\n",
       "        ContractTime                   Category   Salary        OpenDate  \\\n",
       "34728  non-specified  Healthcare & Nursing Jobs  24000.0  20121403150000   \n",
       "\n",
       "            CloseDate      SourceName  \n",
       "34728  20120612150000  staffnurse.com  "
      ]
     },
     "execution_count": 30,
     "metadata": {},
     "output_type": "execute_result"
    }
   ],
   "source": [
    "# Getting the row with Id from the above, to find the row with invalid month in 'OpenDate' column\n",
    "data_df[data_df['Id']==71095186]"
   ]
  },
  {
   "cell_type": "code",
   "execution_count": 31,
   "metadata": {},
   "outputs": [],
   "source": [
    "# Checking for Irregularities/Impossible value in 'CloseDate'\n",
    "for i,j in enumerate(data_df['CloseDate']):\n",
    "    if int(j[4:6]) > 12:\n",
    "        print(j[4:6], i)\n",
    "# No irregularities in 'CloseDate'"
   ]
  },
  {
   "cell_type": "code",
   "execution_count": 32,
   "metadata": {},
   "outputs": [],
   "source": [
    "# Irregularities/Impossible value check in 'OpenDate' \n",
    "data_df['OpenDate'][34728] = data_df['OpenDate'][34728][0:4] + '04'+ data_df['OpenDate'][34728][6:]\n",
    "updateErrorList('34728', '71095186', 'OpenDate', '20121403150000', '2012043150000', 'Impossible month', 'Fixed the impossible month from 14 to 12')"
   ]
  },
  {
   "cell_type": "code",
   "execution_count": 33,
   "metadata": {},
   "outputs": [
    {
     "data": {
      "text/html": [
       "<div>\n",
       "<style scoped>\n",
       "    .dataframe tbody tr th:only-of-type {\n",
       "        vertical-align: middle;\n",
       "    }\n",
       "\n",
       "    .dataframe tbody tr th {\n",
       "        vertical-align: top;\n",
       "    }\n",
       "\n",
       "    .dataframe thead th {\n",
       "        text-align: right;\n",
       "    }\n",
       "</style>\n",
       "<table border=\"1\" class=\"dataframe\">\n",
       "  <thead>\n",
       "    <tr style=\"text-align: right;\">\n",
       "      <th></th>\n",
       "      <th>Id</th>\n",
       "      <th>Title</th>\n",
       "      <th>Location</th>\n",
       "      <th>Company</th>\n",
       "      <th>ContractType</th>\n",
       "      <th>ContractTime</th>\n",
       "      <th>Category</th>\n",
       "      <th>Salary</th>\n",
       "      <th>OpenDate</th>\n",
       "      <th>CloseDate</th>\n",
       "      <th>SourceName</th>\n",
       "    </tr>\n",
       "  </thead>\n",
       "  <tbody>\n",
       "    <tr>\n",
       "      <th>34728</th>\n",
       "      <td>71095186</td>\n",
       "      <td>RGN  Maidstone</td>\n",
       "      <td>Maidstone</td>\n",
       "      <td>Team 24 Ltd</td>\n",
       "      <td>full_time</td>\n",
       "      <td>non-specified</td>\n",
       "      <td>Healthcare &amp; Nursing Jobs</td>\n",
       "      <td>24000.0</td>\n",
       "      <td>20120403150000</td>\n",
       "      <td>20120612150000</td>\n",
       "      <td>staffnurse.com</td>\n",
       "    </tr>\n",
       "  </tbody>\n",
       "</table>\n",
       "</div>"
      ],
      "text/plain": [
       "             Id           Title   Location      Company ContractType  \\\n",
       "34728  71095186  RGN  Maidstone  Maidstone  Team 24 Ltd    full_time   \n",
       "\n",
       "        ContractTime                   Category   Salary        OpenDate  \\\n",
       "34728  non-specified  Healthcare & Nursing Jobs  24000.0  20120403150000   \n",
       "\n",
       "            CloseDate      SourceName  \n",
       "34728  20120612150000  staffnurse.com  "
      ]
     },
     "execution_count": 33,
     "metadata": {},
     "output_type": "execute_result"
    }
   ],
   "source": [
    "# After correcting the invalid month\n",
    "data_df[data_df['Id']==71095186]"
   ]
  },
  {
   "cell_type": "code",
   "execution_count": 34,
   "metadata": {},
   "outputs": [],
   "source": [
    "# Converting OpenDate to Datetime format\n",
    "for i,j in enumerate(data_df['OpenDate']):\n",
    "    data_df['OpenDate'][i] = datetime.strptime(j, '%Y%m%d%H%M%S')\n",
    "data_df['OpenDate'] = pd.to_datetime(data_df['OpenDate'])\n",
    "updateErrorList('ALL', 'ALL', 'OpenDate', 'Object Datatype', 'DateTime', 'Invalid Datatype', 'Corrected the datatype as per requirement')\n",
    "\n",
    "# Converting CloseDate to Datetime format\n",
    "for i,j in enumerate(data_df['CloseDate']):\n",
    "    data_df['CloseDate'][i] = datetime.strptime(j, '%Y%m%d%H%M%S')\n",
    "data_df['CloseDate'] = pd.to_datetime(data_df['CloseDate'])\n",
    "updateErrorList('ALL', 'ALL', 'CloseDate', 'Object Datatype', 'DateTime', 'Invalid Datatype', 'Corrected the datatype as per requirement')"
   ]
  },
  {
   "cell_type": "markdown",
   "metadata": {},
   "source": [
    "##### Error 5: Checking for outliers"
   ]
  },
  {
   "cell_type": "code",
   "execution_count": 35,
   "metadata": {},
   "outputs": [
    {
     "data": {
      "image/png": "[encoded data removed]",
      "text/plain": [
       "<Figure size 432x288 with 1 Axes>"
      ]
     },
     "metadata": {
      "needs_background": "light"
     },
     "output_type": "display_data"
    }
   ],
   "source": [
    "# Check for outliers\n",
    "import matplotlib.pyplot as plt\n",
    "plt.boxplot(data_df['Salary'])\n",
    "plt.title('Boxplot to check outliers')\n",
    "plt.ylim(0, 1.5e5)\n",
    "plt.xlabel('Salary')\n",
    "plt.show()"
   ]
  },
  {
   "cell_type": "markdown",
   "metadata": {},
   "source": [
    "######  There is the presence of outliers in this scenario, but the outliers are ignored in this case as the *salary of every person varies and is not constant or same*."
   ]
  },
  {
   "cell_type": "markdown",
   "metadata": {},
   "source": [
    "##### Error 6: Checking for duplicates"
   ]
  },
  {
   "cell_type": "code",
   "execution_count": 36,
   "metadata": {},
   "outputs": [
    {
     "data": {
      "text/plain": [
       "0"
      ]
     },
     "execution_count": 36,
     "metadata": {},
     "output_type": "execute_result"
    }
   ],
   "source": [
    "# Check for duplicates\n",
    "data_df.duplicated().sum()"
   ]
  },
  {
   "cell_type": "markdown",
   "metadata": {},
   "source": [
    "##### Error 7: Checking for any incorrect spellings/typos"
   ]
  },
  {
   "cell_type": "code",
   "execution_count": 37,
   "metadata": {},
   "outputs": [
    {
     "data": {
      "text/plain": [
       "IT Jobs                             13118\n",
       "Healthcare & Nursing Jobs            8071\n",
       "Engineering Jobs                     7522\n",
       "Accounting & Finance Jobs            6782\n",
       "Sales Jobs                           4879\n",
       "Hospitality & Catering Jobs          4400\n",
       "Teaching Jobs                        3469\n",
       "PR, Advertising & Marketing Jobs     2512\n",
       "Name: Category, dtype: int64"
      ]
     },
     "execution_count": 37,
     "metadata": {},
     "output_type": "execute_result"
    }
   ],
   "source": [
    "# Checking for any incorrect spellings/typos in 'Category' column\n",
    "data_df['Category'].value_counts()"
   ]
  },
  {
   "cell_type": "code",
   "execution_count": 38,
   "metadata": {},
   "outputs": [],
   "source": [
    "# Check for any incorrect spellings/typos in column 'Location'\n",
    "data_df['Location'] = data_df['Location'].str.lower()\n",
    "to_change = {'hampshira': 'hampshire', 'leads': 'leeds', 'warringtn':'warrington', 'bolton': 'boston',\n",
    "            'livepool': 'liverpool', 'manchaster': 'manchester', 'oxfords': 'oxford', 'cembridge': 'cambridge', \n",
    "             'croydan': 'croydon', 'londn': 'london'}\n",
    "\n",
    "\n",
    "changed=[]\n",
    "for index, row in data_df.iterrows():\n",
    "    if row['Location'] in to_change:\n",
    "        fix = 'Corrected spelling from '+ row['Location'] +' to '+ to_change[row['Location']]\n",
    "        changed.append([index, row['Id'], 'Location', row['Location'], to_change[row['Location']] ,'Incorrect spelling', fix])\n",
    "error_list = error_list.append(pd.DataFrame(changed, columns=error_list.columns))\n",
    "data_df['Location'].replace(to_change, inplace=True)"
   ]
  },
  {
   "cell_type": "code",
   "execution_count": 39,
   "metadata": {},
   "outputs": [
    {
     "data": {
      "text/plain": [
       "uk                   7719\n",
       "london               6575\n",
       "south east london    2665\n",
       "the city             1145\n",
       "central london        829\n",
       "                     ... \n",
       "broadfield              9\n",
       "twickenham              9\n",
       "normanton               9\n",
       "waterlooville           8\n",
       "north finchley          7\n",
       "Name: Location, Length: 478, dtype: int64"
      ]
     },
     "execution_count": 39,
     "metadata": {},
     "output_type": "execute_result"
    }
   ],
   "source": [
    "data_df['Location'].value_counts()"
   ]
  },
  {
   "cell_type": "markdown",
   "metadata": {},
   "source": [
    "##### Dataframe after cleaning and resolving errors"
   ]
  },
  {
   "cell_type": "code",
   "execution_count": 40,
   "metadata": {},
   "outputs": [
    {
     "data": {
      "text/html": [
       "<div>\n",
       "<style scoped>\n",
       "    .dataframe tbody tr th:only-of-type {\n",
       "        vertical-align: middle;\n",
       "    }\n",
       "\n",
       "    .dataframe tbody tr th {\n",
       "        vertical-align: top;\n",
       "    }\n",
       "\n",
       "    .dataframe thead th {\n",
       "        text-align: right;\n",
       "    }\n",
       "</style>\n",
       "<table border=\"1\" class=\"dataframe\">\n",
       "  <thead>\n",
       "    <tr style=\"text-align: right;\">\n",
       "      <th></th>\n",
       "      <th>Id</th>\n",
       "      <th>Title</th>\n",
       "      <th>Location</th>\n",
       "      <th>Company</th>\n",
       "      <th>ContractType</th>\n",
       "      <th>ContractTime</th>\n",
       "      <th>Category</th>\n",
       "      <th>Salary</th>\n",
       "      <th>OpenDate</th>\n",
       "      <th>CloseDate</th>\n",
       "      <th>SourceName</th>\n",
       "    </tr>\n",
       "  </thead>\n",
       "  <tbody>\n",
       "    <tr>\n",
       "      <th>0</th>\n",
       "      <td>63129905</td>\n",
       "      <td>Nursery Nurse, Liverpool</td>\n",
       "      <td>liverpool</td>\n",
       "      <td>Caring Services NW</td>\n",
       "      <td>full_time</td>\n",
       "      <td>contract</td>\n",
       "      <td>Teaching Jobs</td>\n",
       "      <td>12480.0</td>\n",
       "      <td>2013-09-17 15:00:00</td>\n",
       "      <td>2013-11-16 15:00:00</td>\n",
       "      <td>fish4.co.uk</td>\n",
       "    </tr>\n",
       "    <tr>\n",
       "      <th>1</th>\n",
       "      <td>69830611</td>\n",
       "      <td>Money/Welfare Advice Workers (x****)</td>\n",
       "      <td>uk</td>\n",
       "      <td>non-specified</td>\n",
       "      <td>full_time</td>\n",
       "      <td>contract</td>\n",
       "      <td>Accounting &amp; Finance Jobs</td>\n",
       "      <td>24700.0</td>\n",
       "      <td>2012-12-30 12:00:00</td>\n",
       "      <td>2013-02-28 12:00:00</td>\n",
       "      <td>fish4.co.uk</td>\n",
       "    </tr>\n",
       "    <tr>\n",
       "      <th>2</th>\n",
       "      <td>69219032</td>\n",
       "      <td>Senior Design Engineer  up to ****</td>\n",
       "      <td>uk</td>\n",
       "      <td>Huxley Associates</td>\n",
       "      <td>full_time</td>\n",
       "      <td>permanent</td>\n",
       "      <td>Engineering Jobs</td>\n",
       "      <td>37500.0</td>\n",
       "      <td>2012-09-03 15:00:00</td>\n",
       "      <td>2012-12-02 15:00:00</td>\n",
       "      <td>fish4.co.uk</td>\n",
       "    </tr>\n",
       "    <tr>\n",
       "      <th>3</th>\n",
       "      <td>69221223</td>\n",
       "      <td>Photocopier Service Engineer</td>\n",
       "      <td>manchester</td>\n",
       "      <td>ETS Technical Selection</td>\n",
       "      <td>full_time</td>\n",
       "      <td>permanent</td>\n",
       "      <td>IT Jobs</td>\n",
       "      <td>20000.0</td>\n",
       "      <td>2013-12-31 12:00:00</td>\n",
       "      <td>2014-03-31 12:00:00</td>\n",
       "      <td>fish4.co.uk</td>\n",
       "    </tr>\n",
       "    <tr>\n",
       "      <th>4</th>\n",
       "      <td>69191387</td>\n",
       "      <td>Digital Advertising Sales Executive (Leading O...</td>\n",
       "      <td>aberdeen</td>\n",
       "      <td>Choice Consultants</td>\n",
       "      <td>full_time</td>\n",
       "      <td>permanent</td>\n",
       "      <td>PR, Advertising &amp; Marketing Jobs</td>\n",
       "      <td>12500.0</td>\n",
       "      <td>2013-06-14 00:00:00</td>\n",
       "      <td>2013-09-12 00:00:00</td>\n",
       "      <td>fish4.co.uk</td>\n",
       "    </tr>\n",
       "    <tr>\n",
       "      <th>...</th>\n",
       "      <td>...</td>\n",
       "      <td>...</td>\n",
       "      <td>...</td>\n",
       "      <td>...</td>\n",
       "      <td>...</td>\n",
       "      <td>...</td>\n",
       "      <td>...</td>\n",
       "      <td>...</td>\n",
       "      <td>...</td>\n",
       "      <td>...</td>\n",
       "      <td>...</td>\n",
       "    </tr>\n",
       "    <tr>\n",
       "      <th>50748</th>\n",
       "      <td>69117113</td>\n",
       "      <td>Research/Data Analyst</td>\n",
       "      <td>london</td>\n",
       "      <td>non-specified</td>\n",
       "      <td>non-specified</td>\n",
       "      <td>contract</td>\n",
       "      <td>IT Jobs</td>\n",
       "      <td>9600.0</td>\n",
       "      <td>2013-11-29 12:00:00</td>\n",
       "      <td>2013-12-29 12:00:00</td>\n",
       "      <td>3desk.com</td>\n",
       "    </tr>\n",
       "    <tr>\n",
       "      <th>50749</th>\n",
       "      <td>71600610</td>\n",
       "      <td>eBooks&amp; Apps Developer  Apprenticeship</td>\n",
       "      <td>rochdale</td>\n",
       "      <td>non-specified</td>\n",
       "      <td>non-specified</td>\n",
       "      <td>contract</td>\n",
       "      <td>IT Jobs</td>\n",
       "      <td>71040.0</td>\n",
       "      <td>2013-03-08 12:00:00</td>\n",
       "      <td>2013-05-07 12:00:00</td>\n",
       "      <td>3desk.com</td>\n",
       "    </tr>\n",
       "    <tr>\n",
       "      <th>50750</th>\n",
       "      <td>70229148</td>\n",
       "      <td>PHP Developer  Bristol</td>\n",
       "      <td>bristol</td>\n",
       "      <td>non-specified</td>\n",
       "      <td>non-specified</td>\n",
       "      <td>contract</td>\n",
       "      <td>IT Jobs</td>\n",
       "      <td>31200.0</td>\n",
       "      <td>2012-12-17 12:00:00</td>\n",
       "      <td>2012-12-31 12:00:00</td>\n",
       "      <td>3desk.com</td>\n",
       "    </tr>\n",
       "    <tr>\n",
       "      <th>50751</th>\n",
       "      <td>70229149</td>\n",
       "      <td>CMS (Q****) content upload</td>\n",
       "      <td>milton keynes</td>\n",
       "      <td>non-specified</td>\n",
       "      <td>non-specified</td>\n",
       "      <td>contract</td>\n",
       "      <td>IT Jobs</td>\n",
       "      <td>36000.0</td>\n",
       "      <td>2012-02-21 00:00:00</td>\n",
       "      <td>2012-04-21 00:00:00</td>\n",
       "      <td>3desk.com</td>\n",
       "    </tr>\n",
       "    <tr>\n",
       "      <th>50752</th>\n",
       "      <td>70139229</td>\n",
       "      <td>Health &amp; Social Care Tutor/Assessor  Bristol</td>\n",
       "      <td>uk</td>\n",
       "      <td>Pursuit Training Ltd</td>\n",
       "      <td>non-specified</td>\n",
       "      <td>permanent</td>\n",
       "      <td>Teaching Jobs</td>\n",
       "      <td>18000.0</td>\n",
       "      <td>2012-08-11 00:00:00</td>\n",
       "      <td>2012-10-10 00:00:00</td>\n",
       "      <td>cvjobstore.com</td>\n",
       "    </tr>\n",
       "  </tbody>\n",
       "</table>\n",
       "<p>50753 rows × 11 columns</p>\n",
       "</div>"
      ],
      "text/plain": [
       "             Id                                              Title  \\\n",
       "0      63129905                           Nursery Nurse, Liverpool   \n",
       "1      69830611               Money/Welfare Advice Workers (x****)   \n",
       "2      69219032                 Senior Design Engineer  up to ****   \n",
       "3      69221223                       Photocopier Service Engineer   \n",
       "4      69191387  Digital Advertising Sales Executive (Leading O...   \n",
       "...         ...                                                ...   \n",
       "50748  69117113                              Research/Data Analyst   \n",
       "50749  71600610             eBooks& Apps Developer  Apprenticeship   \n",
       "50750  70229148                             PHP Developer  Bristol   \n",
       "50751  70229149                         CMS (Q****) content upload   \n",
       "50752  70139229       Health & Social Care Tutor/Assessor  Bristol   \n",
       "\n",
       "            Location                  Company   ContractType ContractTime  \\\n",
       "0          liverpool       Caring Services NW      full_time     contract   \n",
       "1                 uk            non-specified      full_time     contract   \n",
       "2                 uk        Huxley Associates      full_time    permanent   \n",
       "3         manchester  ETS Technical Selection      full_time    permanent   \n",
       "4           aberdeen       Choice Consultants      full_time    permanent   \n",
       "...              ...                      ...            ...          ...   \n",
       "50748         london            non-specified  non-specified     contract   \n",
       "50749       rochdale            non-specified  non-specified     contract   \n",
       "50750        bristol            non-specified  non-specified     contract   \n",
       "50751  milton keynes            non-specified  non-specified     contract   \n",
       "50752             uk     Pursuit Training Ltd  non-specified    permanent   \n",
       "\n",
       "                               Category   Salary            OpenDate  \\\n",
       "0                         Teaching Jobs  12480.0 2013-09-17 15:00:00   \n",
       "1             Accounting & Finance Jobs  24700.0 2012-12-30 12:00:00   \n",
       "2                      Engineering Jobs  37500.0 2012-09-03 15:00:00   \n",
       "3                               IT Jobs  20000.0 2013-12-31 12:00:00   \n",
       "4      PR, Advertising & Marketing Jobs  12500.0 2013-06-14 00:00:00   \n",
       "...                                 ...      ...                 ...   \n",
       "50748                           IT Jobs   9600.0 2013-11-29 12:00:00   \n",
       "50749                           IT Jobs  71040.0 2013-03-08 12:00:00   \n",
       "50750                           IT Jobs  31200.0 2012-12-17 12:00:00   \n",
       "50751                           IT Jobs  36000.0 2012-02-21 00:00:00   \n",
       "50752                     Teaching Jobs  18000.0 2012-08-11 00:00:00   \n",
       "\n",
       "                CloseDate      SourceName  \n",
       "0     2013-11-16 15:00:00     fish4.co.uk  \n",
       "1     2013-02-28 12:00:00     fish4.co.uk  \n",
       "2     2012-12-02 15:00:00     fish4.co.uk  \n",
       "3     2014-03-31 12:00:00     fish4.co.uk  \n",
       "4     2013-09-12 00:00:00     fish4.co.uk  \n",
       "...                   ...             ...  \n",
       "50748 2013-12-29 12:00:00       3desk.com  \n",
       "50749 2013-05-07 12:00:00       3desk.com  \n",
       "50750 2012-12-31 12:00:00       3desk.com  \n",
       "50751 2012-04-21 00:00:00       3desk.com  \n",
       "50752 2012-10-10 00:00:00  cvjobstore.com  \n",
       "\n",
       "[50753 rows x 11 columns]"
      ]
     },
     "execution_count": 40,
     "metadata": {},
     "output_type": "execute_result"
    }
   ],
   "source": [
    "data_df"
   ]
  },
  {
   "cell_type": "markdown",
   "metadata": {},
   "source": [
    "##### Datatypes of the dataframe after cleaning and resolving errors"
   ]
  },
  {
   "cell_type": "code",
   "execution_count": 41,
   "metadata": {},
   "outputs": [
    {
     "data": {
      "text/plain": [
       "Id                       int32\n",
       "Title                   object\n",
       "Location                object\n",
       "Company                 object\n",
       "ContractType            object\n",
       "ContractTime            object\n",
       "Category                object\n",
       "Salary                 float64\n",
       "OpenDate        datetime64[ns]\n",
       "CloseDate       datetime64[ns]\n",
       "SourceName              object\n",
       "dtype: object"
      ]
     },
     "execution_count": 41,
     "metadata": {},
     "output_type": "execute_result"
    }
   ],
   "source": [
    "data_df.dtypes"
   ]
  },
  {
   "cell_type": "markdown",
   "metadata": {},
   "source": [
    "##### Created and updated Error list dataframe"
   ]
  },
  {
   "cell_type": "code",
   "execution_count": 42,
   "metadata": {},
   "outputs": [
    {
     "data": {
      "text/html": [
       "<div>\n",
       "<style scoped>\n",
       "    .dataframe tbody tr th:only-of-type {\n",
       "        vertical-align: middle;\n",
       "    }\n",
       "\n",
       "    .dataframe tbody tr th {\n",
       "        vertical-align: top;\n",
       "    }\n",
       "\n",
       "    .dataframe thead th {\n",
       "        text-align: right;\n",
       "    }\n",
       "</style>\n",
       "<table border=\"1\" class=\"dataframe\">\n",
       "  <thead>\n",
       "    <tr style=\"text-align: right;\">\n",
       "      <th></th>\n",
       "      <th>indexOfdf</th>\n",
       "      <th>Id</th>\n",
       "      <th>ColumnName</th>\n",
       "      <th>Original</th>\n",
       "      <th>Modified</th>\n",
       "      <th>ErrorType</th>\n",
       "      <th>Fixing</th>\n",
       "    </tr>\n",
       "  </thead>\n",
       "  <tbody>\n",
       "    <tr>\n",
       "      <th>0</th>\n",
       "      <td>ALL</td>\n",
       "      <td>ALL</td>\n",
       "      <td>ALL</td>\n",
       "      <td>'',' ','-','N/A'</td>\n",
       "      <td>nan</td>\n",
       "      <td>Invalid values</td>\n",
       "      <td>Replaced invalid values to nan</td>\n",
       "    </tr>\n",
       "    <tr>\n",
       "      <th>1</th>\n",
       "      <td>ALL</td>\n",
       "      <td>ALL</td>\n",
       "      <td>Company</td>\n",
       "      <td>nan</td>\n",
       "      <td>non-specified</td>\n",
       "      <td>Inconsistent value</td>\n",
       "      <td>Replaced nan values to non-specified</td>\n",
       "    </tr>\n",
       "    <tr>\n",
       "      <th>2</th>\n",
       "      <td>49356</td>\n",
       "      <td>68849372</td>\n",
       "      <td>Company</td>\n",
       "      <td>.</td>\n",
       "      <td>non-specified</td>\n",
       "      <td>Inconsistent value</td>\n",
       "      <td>Replaced . to non-specified</td>\n",
       "    </tr>\n",
       "    <tr>\n",
       "      <th>3</th>\n",
       "      <td>26154</td>\n",
       "      <td>71276943</td>\n",
       "      <td>Company</td>\n",
       "      <td>21</td>\n",
       "      <td>non-specified</td>\n",
       "      <td>Not a valid company name</td>\n",
       "      <td>Replaced \"21\" to non-specified</td>\n",
       "    </tr>\n",
       "    <tr>\n",
       "      <th>4</th>\n",
       "      <td>27225</td>\n",
       "      <td>69473555</td>\n",
       "      <td>Company</td>\n",
       "      <td>591</td>\n",
       "      <td>non-specified</td>\n",
       "      <td>Not a valid company name</td>\n",
       "      <td>Replaced \"591\" to non-specified</td>\n",
       "    </tr>\n",
       "    <tr>\n",
       "      <th>...</th>\n",
       "      <td>...</td>\n",
       "      <td>...</td>\n",
       "      <td>...</td>\n",
       "      <td>...</td>\n",
       "      <td>...</td>\n",
       "      <td>...</td>\n",
       "      <td>...</td>\n",
       "    </tr>\n",
       "    <tr>\n",
       "      <th>75</th>\n",
       "      <td>47910</td>\n",
       "      <td>71795469</td>\n",
       "      <td>Location</td>\n",
       "      <td>bolton</td>\n",
       "      <td>boston</td>\n",
       "      <td>Incorrect spelling</td>\n",
       "      <td>Corrected spelling from bolton to boston</td>\n",
       "    </tr>\n",
       "    <tr>\n",
       "      <th>76</th>\n",
       "      <td>48024</td>\n",
       "      <td>68617175</td>\n",
       "      <td>Location</td>\n",
       "      <td>bolton</td>\n",
       "      <td>boston</td>\n",
       "      <td>Incorrect spelling</td>\n",
       "      <td>Corrected spelling from bolton to boston</td>\n",
       "    </tr>\n",
       "    <tr>\n",
       "      <th>77</th>\n",
       "      <td>49840</td>\n",
       "      <td>72513086</td>\n",
       "      <td>Location</td>\n",
       "      <td>bolton</td>\n",
       "      <td>boston</td>\n",
       "      <td>Incorrect spelling</td>\n",
       "      <td>Corrected spelling from bolton to boston</td>\n",
       "    </tr>\n",
       "    <tr>\n",
       "      <th>78</th>\n",
       "      <td>50076</td>\n",
       "      <td>68197545</td>\n",
       "      <td>Location</td>\n",
       "      <td>bolton</td>\n",
       "      <td>boston</td>\n",
       "      <td>Incorrect spelling</td>\n",
       "      <td>Corrected spelling from bolton to boston</td>\n",
       "    </tr>\n",
       "    <tr>\n",
       "      <th>79</th>\n",
       "      <td>50152</td>\n",
       "      <td>68197549</td>\n",
       "      <td>Location</td>\n",
       "      <td>bolton</td>\n",
       "      <td>boston</td>\n",
       "      <td>Incorrect spelling</td>\n",
       "      <td>Corrected spelling from bolton to boston</td>\n",
       "    </tr>\n",
       "  </tbody>\n",
       "</table>\n",
       "<p>50847 rows × 7 columns</p>\n",
       "</div>"
      ],
      "text/plain": [
       "   indexOfdf        Id ColumnName          Original       Modified  \\\n",
       "0        ALL       ALL        ALL  '',' ','-','N/A'            nan   \n",
       "1        ALL       ALL    Company               nan  non-specified   \n",
       "2      49356  68849372    Company                 .  non-specified   \n",
       "3      26154  71276943    Company                21  non-specified   \n",
       "4      27225  69473555    Company               591  non-specified   \n",
       "..       ...       ...        ...               ...            ...   \n",
       "75     47910  71795469   Location            bolton         boston   \n",
       "76     48024  68617175   Location            bolton         boston   \n",
       "77     49840  72513086   Location            bolton         boston   \n",
       "78     50076  68197545   Location            bolton         boston   \n",
       "79     50152  68197549   Location            bolton         boston   \n",
       "\n",
       "                   ErrorType                                    Fixing  \n",
       "0             Invalid values            Replaced invalid values to nan  \n",
       "1         Inconsistent value      Replaced nan values to non-specified  \n",
       "2         Inconsistent value               Replaced . to non-specified  \n",
       "3   Not a valid company name            Replaced \"21\" to non-specified  \n",
       "4   Not a valid company name           Replaced \"591\" to non-specified  \n",
       "..                       ...                                       ...  \n",
       "75        Incorrect spelling  Corrected spelling from bolton to boston  \n",
       "76        Incorrect spelling  Corrected spelling from bolton to boston  \n",
       "77        Incorrect spelling  Corrected spelling from bolton to boston  \n",
       "78        Incorrect spelling  Corrected spelling from bolton to boston  \n",
       "79        Incorrect spelling  Corrected spelling from bolton to boston  \n",
       "\n",
       "[50847 rows x 7 columns]"
      ]
     },
     "execution_count": 42,
     "metadata": {},
     "output_type": "execute_result"
    }
   ],
   "source": [
    "error_list"
   ]
  },
  {
   "cell_type": "markdown",
   "metadata": {},
   "source": [
    "......"
   ]
  },
  {
   "cell_type": "markdown",
   "metadata": {},
   "source": [
    "## Saving data\n",
    "Save the parsed and cleaned data as well as the error list, named as:\n",
    "- \\<student\\_id\\>_dataset1_solution.csv\n",
    "- \\<student\\_id\\>_errorlist.csv"
   ]
  },
  {
   "cell_type": "code",
   "execution_count": 43,
   "metadata": {},
   "outputs": [],
   "source": [
    "# code to save output data\n",
    "# Cleaned dataset\n",
    "data_df.to_csv(\"s3959200_dataset1_solution.csv\", index=False)\n",
    "\n",
    "# Error lists updated dataset\n",
    "error_list.to_csv(\"s3959200_errorlist.csv\", index=False)"
   ]
  },
  {
   "cell_type": "markdown",
   "metadata": {},
   "source": [
    "## Summary\n",
    "Give a short summary and anything you would like to talk about the assessment here.\n",
    "\n",
    "- In this assignment, I have learnt well to read data from xml file and covert it into a pandas dataframe.\n",
    "- I have learnt how to use and handle regex expressions, how to clean, correct and analyze them.\n",
    "- Also, how to find errors, clean them with appropriate techniques, analyze them in a correct way, update the errors and also its fixes to a new dataframe as and when it is done and finally to export them to new csv files."
   ]
  }
 ],
 "metadata": {
  "kernelspec": {
   "display_name": "Python 3",
   "language": "python",
   "name": "python3"
  },
  "language_info": {
   "codemirror_mode": {
    "name": "ipython",
    "version": 3
   },
   "file_extension": ".py",
   "mimetype": "text/x-python",
   "name": "python",
   "nbconvert_exporter": "python",
   "pygments_lexer": "ipython3",
   "version": "3.8.8"
  }
 },
 "nbformat": 4,
 "nbformat_minor": 1
}

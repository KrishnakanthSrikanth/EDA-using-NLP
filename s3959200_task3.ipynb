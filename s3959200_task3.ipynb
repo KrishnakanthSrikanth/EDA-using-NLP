{
 "cells": [
  {
   "cell_type": "markdown",
   "metadata": {},
   "source": [
    "# Assignment 1: Data Parsing, Cleansing and Integration\n",
    "## Task 3\n",
    "#### Student Name: Krishnakanth Srikanth\n",
    "#### Student ID: s3959200\n",
    "\n",
    "Date: 03/09/2023\n",
    "\n",
    "Version: 1.0\n",
    "\n",
    "Environment: Python 3 and Jupyter notebook\n",
    "\n",
    "Libraries used: \n",
    "* pandas\n",
    "* re\n",
    "* numpy\n",
    "* rand\n",
    "* warnings\n",
    "\n",
    "\n",
    "## Introduction\n",
    "\n",
    "This assessment task is to integrate the output of previous task and the new csv file named s3959200_dataset2.csv. The conflicts that were encountered during this process both in schema level and data level were some columns where missing in the new csv file, some columns headers were different and its values were too different. To resolve these conflicts, new functions were created to create and generate values to the missing columns, renaming the headers as needed, replacing the values as needed and by doing these, the dataframes are made ready for integration. Once integrated, the global key attribute is chosen and finally, the newly merged dataset is exported to a csv file named '__s3959200_dataset_integrated.csv__'.\n",
    "\n",
    "<span style=\"color: red\"> Note that this is a sample notebook only. You will need to fill in the proper markdown and code blocks. You might also want to make necessary changes to the structure to meet your own needs. Note also that any generic comments written in this notebook are to be removed and replace with your own words.</span>\n"
   ]
  },
  {
   "cell_type": "markdown",
   "metadata": {},
   "source": [
    "##  Import libraries "
   ]
  },
  {
   "cell_type": "code",
   "execution_count": 1,
   "metadata": {},
   "outputs": [],
   "source": [
    "# Code to import libraries as you need in this assessment\n",
    "import pandas as pd\n",
    "pd.set_option('display.max_columns', None) # Display all columns\n",
    "import numpy as np\n",
    "import random as rand\n",
    "import warnings\n",
    "warnings.filterwarnings(\"ignore\") # To ignore warnings"
   ]
  },
  {
   "cell_type": "markdown",
   "metadata": {},
   "source": [
    "### 1. Examining and loading data\n",
    "Examine \"\\<student\\_id\\>_dataset2.csv\" the structure and schema. "
   ]
  },
  {
   "cell_type": "code",
   "execution_count": 2,
   "metadata": {},
   "outputs": [],
   "source": [
    "# Code to inspect the provided data file\n",
    "# Couple of notes for all code block in this notebook\n",
    "## please provide proper comment on your code\n",
    "## Please re-start and run all cells to make sure codes are runable and include your output in the submission\n",
    "task1_data = pd.read_csv('s3959200_dataset1_solution.csv', header=0)\n",
    "task2_data = pd.read_csv('s3959200_dataset2.csv', header=0)"
   ]
  },
  {
   "cell_type": "code",
   "execution_count": 3,
   "metadata": {},
   "outputs": [
    {
     "data": {
      "text/html": [
       "<div>\n",
       "<style scoped>\n",
       "    .dataframe tbody tr th:only-of-type {\n",
       "        vertical-align: middle;\n",
       "    }\n",
       "\n",
       "    .dataframe tbody tr th {\n",
       "        vertical-align: top;\n",
       "    }\n",
       "\n",
       "    .dataframe thead th {\n",
       "        text-align: right;\n",
       "    }\n",
       "</style>\n",
       "<table border=\"1\" class=\"dataframe\">\n",
       "  <thead>\n",
       "    <tr style=\"text-align: right;\">\n",
       "      <th></th>\n",
       "      <th>Id</th>\n",
       "      <th>Title</th>\n",
       "      <th>Location</th>\n",
       "      <th>Company</th>\n",
       "      <th>ContractType</th>\n",
       "      <th>ContractTime</th>\n",
       "      <th>Category</th>\n",
       "      <th>Salary</th>\n",
       "      <th>OpenDate</th>\n",
       "      <th>CloseDate</th>\n",
       "      <th>SourceName</th>\n",
       "    </tr>\n",
       "  </thead>\n",
       "  <tbody>\n",
       "    <tr>\n",
       "      <th>0</th>\n",
       "      <td>63129905</td>\n",
       "      <td>Nursery Nurse, Liverpool</td>\n",
       "      <td>liverpool</td>\n",
       "      <td>Caring Services NW</td>\n",
       "      <td>full_time</td>\n",
       "      <td>contract</td>\n",
       "      <td>Teaching Jobs</td>\n",
       "      <td>12480.0</td>\n",
       "      <td>2013-09-17 15:00:00</td>\n",
       "      <td>2013-11-16 15:00:00</td>\n",
       "      <td>fish4.co.uk</td>\n",
       "    </tr>\n",
       "    <tr>\n",
       "      <th>1</th>\n",
       "      <td>69830611</td>\n",
       "      <td>Money/Welfare Advice Workers (x****)</td>\n",
       "      <td>uk</td>\n",
       "      <td>non-specified</td>\n",
       "      <td>full_time</td>\n",
       "      <td>contract</td>\n",
       "      <td>Accounting &amp; Finance Jobs</td>\n",
       "      <td>24700.0</td>\n",
       "      <td>2012-12-30 12:00:00</td>\n",
       "      <td>2013-02-28 12:00:00</td>\n",
       "      <td>fish4.co.uk</td>\n",
       "    </tr>\n",
       "    <tr>\n",
       "      <th>2</th>\n",
       "      <td>69219032</td>\n",
       "      <td>Senior Design Engineer  up to ****</td>\n",
       "      <td>uk</td>\n",
       "      <td>Huxley Associates</td>\n",
       "      <td>full_time</td>\n",
       "      <td>permanent</td>\n",
       "      <td>Engineering Jobs</td>\n",
       "      <td>37500.0</td>\n",
       "      <td>2012-09-03 15:00:00</td>\n",
       "      <td>2012-12-02 15:00:00</td>\n",
       "      <td>fish4.co.uk</td>\n",
       "    </tr>\n",
       "    <tr>\n",
       "      <th>3</th>\n",
       "      <td>69221223</td>\n",
       "      <td>Photocopier Service Engineer</td>\n",
       "      <td>manchester</td>\n",
       "      <td>ETS Technical Selection</td>\n",
       "      <td>full_time</td>\n",
       "      <td>permanent</td>\n",
       "      <td>IT Jobs</td>\n",
       "      <td>20000.0</td>\n",
       "      <td>2013-12-31 12:00:00</td>\n",
       "      <td>2014-03-31 12:00:00</td>\n",
       "      <td>fish4.co.uk</td>\n",
       "    </tr>\n",
       "    <tr>\n",
       "      <th>4</th>\n",
       "      <td>69191387</td>\n",
       "      <td>Digital Advertising Sales Executive (Leading O...</td>\n",
       "      <td>aberdeen</td>\n",
       "      <td>Choice Consultants</td>\n",
       "      <td>full_time</td>\n",
       "      <td>permanent</td>\n",
       "      <td>PR, Advertising &amp; Marketing Jobs</td>\n",
       "      <td>12500.0</td>\n",
       "      <td>2013-06-14 00:00:00</td>\n",
       "      <td>2013-09-12 00:00:00</td>\n",
       "      <td>fish4.co.uk</td>\n",
       "    </tr>\n",
       "  </tbody>\n",
       "</table>\n",
       "</div>"
      ],
      "text/plain": [
       "         Id                                              Title    Location  \\\n",
       "0  63129905                           Nursery Nurse, Liverpool   liverpool   \n",
       "1  69830611               Money/Welfare Advice Workers (x****)          uk   \n",
       "2  69219032                 Senior Design Engineer  up to ****          uk   \n",
       "3  69221223                       Photocopier Service Engineer  manchester   \n",
       "4  69191387  Digital Advertising Sales Executive (Leading O...    aberdeen   \n",
       "\n",
       "                   Company ContractType ContractTime  \\\n",
       "0       Caring Services NW    full_time     contract   \n",
       "1            non-specified    full_time     contract   \n",
       "2        Huxley Associates    full_time    permanent   \n",
       "3  ETS Technical Selection    full_time    permanent   \n",
       "4       Choice Consultants    full_time    permanent   \n",
       "\n",
       "                           Category   Salary             OpenDate  \\\n",
       "0                     Teaching Jobs  12480.0  2013-09-17 15:00:00   \n",
       "1         Accounting & Finance Jobs  24700.0  2012-12-30 12:00:00   \n",
       "2                  Engineering Jobs  37500.0  2012-09-03 15:00:00   \n",
       "3                           IT Jobs  20000.0  2013-12-31 12:00:00   \n",
       "4  PR, Advertising & Marketing Jobs  12500.0  2013-06-14 00:00:00   \n",
       "\n",
       "             CloseDate   SourceName  \n",
       "0  2013-11-16 15:00:00  fish4.co.uk  \n",
       "1  2013-02-28 12:00:00  fish4.co.uk  \n",
       "2  2012-12-02 15:00:00  fish4.co.uk  \n",
       "3  2014-03-31 12:00:00  fish4.co.uk  \n",
       "4  2013-09-12 00:00:00  fish4.co.uk  "
      ]
     },
     "execution_count": 3,
     "metadata": {},
     "output_type": "execute_result"
    }
   ],
   "source": [
    "task1_data.head()"
   ]
  },
  {
   "cell_type": "code",
   "execution_count": 4,
   "metadata": {},
   "outputs": [
    {
     "data": {
      "text/html": [
       "<div>\n",
       "<style scoped>\n",
       "    .dataframe tbody tr th:only-of-type {\n",
       "        vertical-align: middle;\n",
       "    }\n",
       "\n",
       "    .dataframe tbody tr th {\n",
       "        vertical-align: top;\n",
       "    }\n",
       "\n",
       "    .dataframe thead th {\n",
       "        text-align: right;\n",
       "    }\n",
       "</style>\n",
       "<table border=\"1\" class=\"dataframe\">\n",
       "  <thead>\n",
       "    <tr style=\"text-align: right;\">\n",
       "      <th></th>\n",
       "      <th>Monthly Payment</th>\n",
       "      <th>Closing</th>\n",
       "      <th>Organisation</th>\n",
       "      <th>Location</th>\n",
       "      <th>Category</th>\n",
       "      <th>Full-Time Equivalent (FTE)</th>\n",
       "      <th>Opening</th>\n",
       "      <th>Job Title</th>\n",
       "      <th>Type</th>\n",
       "    </tr>\n",
       "  </thead>\n",
       "  <tbody>\n",
       "    <tr>\n",
       "      <th>0</th>\n",
       "      <td>1200.00</td>\n",
       "      <td>2012-12-27 12:00:00</td>\n",
       "      <td>Protocol Education</td>\n",
       "      <td>UK</td>\n",
       "      <td>Education</td>\n",
       "      <td>0.8</td>\n",
       "      <td>2012-11-27 12:00:00</td>\n",
       "      <td>Higher Level Teaching Assistant (HLTA)</td>\n",
       "      <td>NaN</td>\n",
       "    </tr>\n",
       "    <tr>\n",
       "      <th>1</th>\n",
       "      <td>3125.00</td>\n",
       "      <td>2013-08-25 15:00:00</td>\n",
       "      <td>Cordius Ltd</td>\n",
       "      <td>UK</td>\n",
       "      <td>Information Technology</td>\n",
       "      <td>1.0</td>\n",
       "      <td>2013-06-26 15:00:00</td>\n",
       "      <td>Software Developers / Software Architects  Not...</td>\n",
       "      <td>Permanent</td>\n",
       "    </tr>\n",
       "    <tr>\n",
       "      <th>2</th>\n",
       "      <td>4333.33</td>\n",
       "      <td>2013-01-16 15:00:00</td>\n",
       "      <td>Understanding Recruitment</td>\n",
       "      <td>Walton-On-Thames</td>\n",
       "      <td>Information Technology</td>\n",
       "      <td>1.0</td>\n",
       "      <td>2012-10-18 15:00:00</td>\n",
       "      <td>Senior BI Consultant (Cognos)</td>\n",
       "      <td>Permanent</td>\n",
       "    </tr>\n",
       "    <tr>\n",
       "      <th>3</th>\n",
       "      <td>3750.00</td>\n",
       "      <td>2013-02-13 15:00:00</td>\n",
       "      <td>Wallace Hind Selection</td>\n",
       "      <td>UK</td>\n",
       "      <td>Sales</td>\n",
       "      <td>1.0</td>\n",
       "      <td>2012-12-15 15:00:00</td>\n",
       "      <td>Technical Sales Manager, Pigments Fillers to S...</td>\n",
       "      <td>NaN</td>\n",
       "    </tr>\n",
       "    <tr>\n",
       "      <th>4</th>\n",
       "      <td>2916.67</td>\n",
       "      <td>2013-01-12 12:00:00</td>\n",
       "      <td>Greenhill Group Ltd</td>\n",
       "      <td>Eastern England</td>\n",
       "      <td>Sales</td>\n",
       "      <td>1.0</td>\n",
       "      <td>2012-12-29 12:00:00</td>\n",
       "      <td>Channel Account Manager  Software</td>\n",
       "      <td>NaN</td>\n",
       "    </tr>\n",
       "  </tbody>\n",
       "</table>\n",
       "</div>"
      ],
      "text/plain": [
       "   Monthly Payment              Closing               Organisation  \\\n",
       "0          1200.00  2012-12-27 12:00:00         Protocol Education   \n",
       "1          3125.00  2013-08-25 15:00:00                Cordius Ltd   \n",
       "2          4333.33  2013-01-16 15:00:00  Understanding Recruitment   \n",
       "3          3750.00  2013-02-13 15:00:00     Wallace Hind Selection   \n",
       "4          2916.67  2013-01-12 12:00:00        Greenhill Group Ltd   \n",
       "\n",
       "           Location                Category  Full-Time Equivalent (FTE)  \\\n",
       "0                UK               Education                         0.8   \n",
       "1                UK  Information Technology                         1.0   \n",
       "2  Walton-On-Thames  Information Technology                         1.0   \n",
       "3                UK                   Sales                         1.0   \n",
       "4   Eastern England                   Sales                         1.0   \n",
       "\n",
       "               Opening                                          Job Title  \\\n",
       "0  2012-11-27 12:00:00             Higher Level Teaching Assistant (HLTA)   \n",
       "1  2013-06-26 15:00:00  Software Developers / Software Architects  Not...   \n",
       "2  2012-10-18 15:00:00                      Senior BI Consultant (Cognos)   \n",
       "3  2012-12-15 15:00:00  Technical Sales Manager, Pigments Fillers to S...   \n",
       "4  2012-12-29 12:00:00                  Channel Account Manager  Software   \n",
       "\n",
       "        Type  \n",
       "0        NaN  \n",
       "1  Permanent  \n",
       "2  Permanent  \n",
       "3        NaN  \n",
       "4        NaN  "
      ]
     },
     "execution_count": 4,
     "metadata": {},
     "output_type": "execute_result"
    }
   ],
   "source": [
    "task2_data.head()"
   ]
  },
  {
   "cell_type": "markdown",
   "metadata": {},
   "source": [
    "###### Data Overview for Detecting Conflicts"
   ]
  },
  {
   "cell_type": "code",
   "execution_count": 5,
   "metadata": {},
   "outputs": [
    {
     "name": "stdout",
     "output_type": "stream",
     "text": [
      "<class 'pandas.core.frame.DataFrame'>\n",
      "RangeIndex: 50753 entries, 0 to 50752\n",
      "Data columns (total 11 columns):\n",
      " #   Column        Non-Null Count  Dtype  \n",
      "---  ------        --------------  -----  \n",
      " 0   Id            50753 non-null  int64  \n",
      " 1   Title         50753 non-null  object \n",
      " 2   Location      50753 non-null  object \n",
      " 3   Company       50753 non-null  object \n",
      " 4   ContractType  50753 non-null  object \n",
      " 5   ContractTime  50753 non-null  object \n",
      " 6   Category      50753 non-null  object \n",
      " 7   Salary        50753 non-null  float64\n",
      " 8   OpenDate      50753 non-null  object \n",
      " 9   CloseDate     50753 non-null  object \n",
      " 10  SourceName    50753 non-null  object \n",
      "dtypes: float64(1), int64(1), object(9)\n",
      "memory usage: 4.3+ MB\n"
     ]
    }
   ],
   "source": [
    "task1_data.info()"
   ]
  },
  {
   "cell_type": "code",
   "execution_count": 6,
   "metadata": {},
   "outputs": [
    {
     "name": "stdout",
     "output_type": "stream",
     "text": [
      "<class 'pandas.core.frame.DataFrame'>\n",
      "RangeIndex: 5000 entries, 0 to 4999\n",
      "Data columns (total 9 columns):\n",
      " #   Column                      Non-Null Count  Dtype  \n",
      "---  ------                      --------------  -----  \n",
      " 0   Monthly Payment             5000 non-null   float64\n",
      " 1   Closing                     5000 non-null   object \n",
      " 2   Organisation                4514 non-null   object \n",
      " 3   Location                    5000 non-null   object \n",
      " 4   Category                    5000 non-null   object \n",
      " 5   Full-Time Equivalent (FTE)  5000 non-null   float64\n",
      " 6   Opening                     5000 non-null   object \n",
      " 7   Job Title                   5000 non-null   object \n",
      " 8   Type                        3580 non-null   object \n",
      "dtypes: float64(2), object(7)\n",
      "memory usage: 351.7+ KB\n"
     ]
    }
   ],
   "source": [
    "task2_data.info()"
   ]
  },
  {
   "cell_type": "markdown",
   "metadata": {},
   "source": [
    "### 2. Resolving schema conflicts\n",
    "After careful analysis, the __task2_data has the '_ID_' column missing__ which is created using __random__ function.\n",
    "__task2_data misses the SourceName column__ which we get from the requirement document as _www.jobhuntlisting.com_ since the dataset is fetched from that website.\n",
    "Also, the __task2_data does not have the values that matches the values in task1_data for respective features__. This is handled by correcting the values according with respect to task1_data in task2_data. And also, __renaming the columns of task2_data to match the columns of task1_data__\n",
    "\n",
    "<span style=\"color: red\"> You might have complex notebook structure in this section, please feel free to create your own notebook structure. </span>"
   ]
  },
  {
   "cell_type": "code",
   "execution_count": 7,
   "metadata": {
    "scrolled": false
   },
   "outputs": [
    {
     "data": {
      "text/plain": [
       "Id                int64\n",
       "Title            object\n",
       "Location         object\n",
       "Company          object\n",
       "ContractType     object\n",
       "ContractTime     object\n",
       "Category         object\n",
       "Salary          float64\n",
       "OpenDate         object\n",
       "CloseDate        object\n",
       "SourceName       object\n",
       "dtype: object"
      ]
     },
     "execution_count": 7,
     "metadata": {},
     "output_type": "execute_result"
    }
   ],
   "source": [
    "# Code to inspect data and identify conflicts in schema\n",
    "# Checking datatypes of task1_data before resolving conflicts\n",
    "task1_data.dtypes"
   ]
  },
  {
   "cell_type": "code",
   "execution_count": 8,
   "metadata": {},
   "outputs": [
    {
     "data": {
      "text/plain": [
       "Monthly Payment               float64\n",
       "Closing                        object\n",
       "Organisation                   object\n",
       "Location                       object\n",
       "Category                       object\n",
       "Full-Time Equivalent (FTE)    float64\n",
       "Opening                        object\n",
       "Job Title                      object\n",
       "Type                           object\n",
       "dtype: object"
      ]
     },
     "execution_count": 8,
     "metadata": {},
     "output_type": "execute_result"
    }
   ],
   "source": [
    "# Checking datatypes of task2_data before resolving conflicts\n",
    "task2_data.dtypes"
   ]
  },
  {
   "cell_type": "markdown",
   "metadata": {},
   "source": [
    "#### Conflict 1: The task2_data does not have an Id column\n",
    "The main task of this part of assignment is to integrate the dataset from previous task (s3959200_dataset1_solution.csv) and the new dataset (s3959200_dataset2.csv). To achieve this, we need to have the features in both the datasets same. Here, in the second dataset, there is no Id column as in dataset 1. Hence, creating Id column with 8 values, to resolve the conflict in the schema."
   ]
  },
  {
   "cell_type": "code",
   "execution_count": 9,
   "metadata": {},
   "outputs": [],
   "source": [
    "# Code to fix the conflict\n",
    "# Creating a random ID generator for dataset 2\n",
    "id_set = set()\n",
    "task1_data_id = task1_data['Id'].values.tolist()\n",
    "i = 0\n",
    "while i < len(task2_data):\n",
    "    task2_data_id = rand.randint(1e7, 1e8-1)\n",
    "    if (task2_data_id in task1_data_id) or (task2_data_id in id_set):\n",
    "        continue\n",
    "    else:\n",
    "        id_set.add(task2_data_id)\n",
    "        i = i+1\n",
    "id_list = list(id_set)\n",
    "task2_data['Id'] = id_list"
   ]
  },
  {
   "cell_type": "markdown",
   "metadata": {},
   "source": [
    "#### Conflict 2: The task2_data does not have SourceName column\n",
    "Like the Conflict 1, the second dataset has no SourceName column. Hence, creating SourceName column with a default value of 'www.jobhuntlisting.com' as the dataset is obtained from that source."
   ]
  },
  {
   "cell_type": "code",
   "execution_count": 10,
   "metadata": {},
   "outputs": [],
   "source": [
    "# Creating SourceName column in task2_data\n",
    "task2_data['SourceName'] = 'www.jobhuntlisting.com'"
   ]
  },
  {
   "cell_type": "markdown",
   "metadata": {},
   "source": [
    "#### Conflict 3: Making the features and values in the task2_data same as task1_data\n",
    "task1_data has features namely: Id, Title, Location, Company, ContractType, ContractTime, Category, Salary, OpenDate, CloseDate, SourceName whereas task2_data has features Monthly Payment, Closing, Organisation, Location, Category, Full-Time Equivalent (FTE), Opening, Job Title, Type, Id, SourceName. To resolve the conflicts during merging, we need to make the columns and values in both the datasets same."
   ]
  },
  {
   "cell_type": "markdown",
   "metadata": {},
   "source": [
    "##### Conflict 3.1: Converting 'Monthly Payment' to yearly and renaming the column to 'Salary'"
   ]
  },
  {
   "cell_type": "code",
   "execution_count": 11,
   "metadata": {},
   "outputs": [],
   "source": [
    "# Checking on column 'Monthly Payment'\n",
    "# This column gives us details about the monthly salary of an employee. \n",
    "# We can make this field to yearly salary which would match 'Salary' column in task1_data\n",
    "task2_data['Monthly Payment'] = task2_data['Monthly Payment'].apply(lambda sal: sal * 12)\n",
    "\n",
    "# Renaming the column to 'Salary'\n",
    "task2_data.rename(columns=({'Monthly Payment':'Salary'}), inplace=True)"
   ]
  },
  {
   "cell_type": "markdown",
   "metadata": {},
   "source": [
    "##### Conflict 3.2: Renaming columns to match the columns in task1_data"
   ]
  },
  {
   "cell_type": "code",
   "execution_count": 12,
   "metadata": {},
   "outputs": [],
   "source": [
    "# Renaming 'Closing' to 'CloseDate', 'Organisation' to 'Company', 'Opening' to 'OpenDate', 'Job Title' to 'Title'\n",
    "task2_data.rename(columns=({'Closing':'CloseDate', 'Organisation':'Company', 'Opening':'OpenDate', \n",
    "                           'Job Title':'Title'}), inplace=True)"
   ]
  },
  {
   "cell_type": "markdown",
   "metadata": {},
   "source": [
    "##### Conflict 3.3: Inspecting 'Category' column and making it same as task1_data"
   ]
  },
  {
   "cell_type": "code",
   "execution_count": 13,
   "metadata": {},
   "outputs": [
    {
     "data": {
      "text/plain": [
       "Information Technology    1317\n",
       "Health                     789\n",
       "Engineering                744\n",
       "Finance                    668\n",
       "Sales                      498\n",
       "Hospitality                399\n",
       "Education                  326\n",
       "Marketing                  259\n",
       "Name: Category, dtype: int64"
      ]
     },
     "execution_count": 13,
     "metadata": {},
     "output_type": "execute_result"
    }
   ],
   "source": [
    "# Checking the column 'Category' in task2_data\n",
    "task2_data['Category'].value_counts()"
   ]
  },
  {
   "cell_type": "code",
   "execution_count": 14,
   "metadata": {},
   "outputs": [
    {
     "data": {
      "text/plain": [
       "IT Jobs                             13118\n",
       "Healthcare & Nursing Jobs            8071\n",
       "Engineering Jobs                     7522\n",
       "Accounting & Finance Jobs            6782\n",
       "Sales Jobs                           4879\n",
       "Hospitality & Catering Jobs          4400\n",
       "Teaching Jobs                        3469\n",
       "PR, Advertising & Marketing Jobs     2512\n",
       "Name: Category, dtype: int64"
      ]
     },
     "execution_count": 14,
     "metadata": {},
     "output_type": "execute_result"
    }
   ],
   "source": [
    "# Checking the column 'Category' in task1_data\n",
    "task1_data['Category'].value_counts()"
   ]
  },
  {
   "cell_type": "code",
   "execution_count": 15,
   "metadata": {},
   "outputs": [],
   "source": [
    "# Replacing values in 'Category' column of task2_data same as task1_data\n",
    "task2_data['Category'].replace(to_replace= 'Information Technology', value = 'IT Jobs', inplace=True)\n",
    "task2_data['Category'].replace(to_replace= 'Health', value = 'Healthcare & Nursing Jobs', inplace=True)\n",
    "task2_data['Category'].replace(to_replace= 'Engineering', value = 'Engineering Jobs', inplace=True)\n",
    "task2_data['Category'].replace(to_replace= 'Finance', value = 'Accounting & Finance Jobs', inplace=True)\n",
    "task2_data['Category'].replace(to_replace= 'Sales', value = 'Sales Jobs', inplace=True)\n",
    "task2_data['Category'].replace(to_replace= 'Hospitality', value = 'Hospitality & Catering Jobs', inplace=True)\n",
    "task2_data['Category'].replace(to_replace= 'Education', value = 'Teaching Jobs', inplace=True)\n",
    "task2_data['Category'].replace(to_replace= 'Marketing', value = 'PR, Advertising & Marketing Jobs', inplace=True)"
   ]
  },
  {
   "cell_type": "markdown",
   "metadata": {},
   "source": [
    "##### Conflict 3.4: Inspecting 'Full-Time Equivalent (FTE)' column and making it same as task1_data, renaming the column to 'ContractType'"
   ]
  },
  {
   "cell_type": "code",
   "execution_count": 16,
   "metadata": {},
   "outputs": [
    {
     "data": {
      "text/plain": [
       "1.0    4834\n",
       "0.4      47\n",
       "0.8      41\n",
       "0.6      39\n",
       "0.2      39\n",
       "Name: Full-Time Equivalent (FTE), dtype: int64"
      ]
     },
     "execution_count": 16,
     "metadata": {},
     "output_type": "execute_result"
    }
   ],
   "source": [
    "# Checking the column 'Full-Time Equivalent (FTE)' in task2_data\n",
    "task2_data['Full-Time Equivalent (FTE)'].value_counts()"
   ]
  },
  {
   "cell_type": "code",
   "execution_count": 17,
   "metadata": {},
   "outputs": [
    {
     "data": {
      "text/plain": [
       "non-specified    38082\n",
       "full_time        11250\n",
       "part_time         1421\n",
       "Name: ContractType, dtype: int64"
      ]
     },
     "execution_count": 17,
     "metadata": {},
     "output_type": "execute_result"
    }
   ],
   "source": [
    "# Checking the column 'ContractType' in task1_data\n",
    "task1_data['ContractType'].value_counts()"
   ]
  },
  {
   "cell_type": "code",
   "execution_count": 18,
   "metadata": {},
   "outputs": [],
   "source": [
    "# Replacing values '1.0' to 'full_time' and others to 'part_time' and renaming to 'ContractType'\n",
    "task2_data['Full-Time Equivalent (FTE)'] = task2_data['Full-Time Equivalent (FTE)'].apply(lambda val : 'full_time' if val == '1.0' else 'part_time')\n",
    "task2_data.rename(columns=({'Full-Time Equivalent (FTE)':'ContractType'}), inplace=True)"
   ]
  },
  {
   "cell_type": "markdown",
   "metadata": {},
   "source": [
    "##### Conflict 3.5: Replacing the values in 'Location' to lower case to match case in task1_data"
   ]
  },
  {
   "cell_type": "code",
   "execution_count": 19,
   "metadata": {},
   "outputs": [],
   "source": [
    "task2_data['Location'] = task2_data['Location'].apply(lambda loc : loc.lower())"
   ]
  },
  {
   "cell_type": "markdown",
   "metadata": {},
   "source": [
    "##### Conflict 3.6: Inspecting 'Type' column and making it same as task1_data, renaming the column to 'ContractTime'"
   ]
  },
  {
   "cell_type": "code",
   "execution_count": 20,
   "metadata": {},
   "outputs": [
    {
     "data": {
      "text/plain": [
       "Permanent              3040\n",
       "Fixed Term Contract     540\n",
       "Name: Type, dtype: int64"
      ]
     },
     "execution_count": 20,
     "metadata": {},
     "output_type": "execute_result"
    }
   ],
   "source": [
    "# Checking the column 'Type' in task2_data\n",
    "task2_data['Type'].value_counts()"
   ]
  },
  {
   "cell_type": "code",
   "execution_count": 21,
   "metadata": {},
   "outputs": [
    {
     "data": {
      "text/plain": [
       "permanent        31024\n",
       "non-specified    14101\n",
       "contract          5628\n",
       "Name: ContractTime, dtype: int64"
      ]
     },
     "execution_count": 21,
     "metadata": {},
     "output_type": "execute_result"
    }
   ],
   "source": [
    "# Checking the column 'ContractTime' in task1_data\n",
    "task1_data['ContractTime'].value_counts()"
   ]
  },
  {
   "cell_type": "code",
   "execution_count": 22,
   "metadata": {},
   "outputs": [],
   "source": [
    "# Replacing values to match the task1_data and renaming to 'ContractTime'\n",
    "task2_data['Type'] = task2_data['Type'].apply(lambda x : 'contract' if x == 'Fixed Term Contract' else x)\n",
    "task2_data['Type'] = task2_data['Type'].apply(lambda x : x.lower() if x is not np.nan else x)\n",
    "task2_data.rename(columns=({'Type':'ContractTime'}), inplace=True)"
   ]
  },
  {
   "cell_type": "markdown",
   "metadata": {},
   "source": [
    "##### Conflict 3.7: Converting datatypes of 'OpenDate' and 'CloseDate' to datetime"
   ]
  },
  {
   "cell_type": "code",
   "execution_count": 23,
   "metadata": {},
   "outputs": [],
   "source": [
    "task1_data['OpenDate'] = pd.to_datetime(task1_data['OpenDate'])\n",
    "task1_data['CloseDate'] = pd.to_datetime(task1_data['CloseDate'])\n",
    "\n",
    "task2_data['OpenDate'] = pd.to_datetime(task2_data['OpenDate'])\n",
    "task2_data['CloseDate'] = pd.to_datetime(task2_data['CloseDate'])"
   ]
  },
  {
   "cell_type": "markdown",
   "metadata": {},
   "source": [
    "#### Conflict 4: Rearranging the columns in task2_data same as task1_data"
   ]
  },
  {
   "cell_type": "code",
   "execution_count": 24,
   "metadata": {},
   "outputs": [],
   "source": [
    "task2_data = task2_data[['Id', 'Title', 'Location', 'Company', 'ContractType', 'ContractTime', \n",
    "                         'Category', 'Salary', 'OpenDate', 'CloseDate', 'SourceName']]"
   ]
  },
  {
   "cell_type": "code",
   "execution_count": 25,
   "metadata": {},
   "outputs": [
    {
     "data": {
      "text/html": [
       "<div>\n",
       "<style scoped>\n",
       "    .dataframe tbody tr th:only-of-type {\n",
       "        vertical-align: middle;\n",
       "    }\n",
       "\n",
       "    .dataframe tbody tr th {\n",
       "        vertical-align: top;\n",
       "    }\n",
       "\n",
       "    .dataframe thead th {\n",
       "        text-align: right;\n",
       "    }\n",
       "</style>\n",
       "<table border=\"1\" class=\"dataframe\">\n",
       "  <thead>\n",
       "    <tr style=\"text-align: right;\">\n",
       "      <th></th>\n",
       "      <th>Id</th>\n",
       "      <th>Title</th>\n",
       "      <th>Location</th>\n",
       "      <th>Company</th>\n",
       "      <th>ContractType</th>\n",
       "      <th>ContractTime</th>\n",
       "      <th>Category</th>\n",
       "      <th>Salary</th>\n",
       "      <th>OpenDate</th>\n",
       "      <th>CloseDate</th>\n",
       "      <th>SourceName</th>\n",
       "    </tr>\n",
       "  </thead>\n",
       "  <tbody>\n",
       "    <tr>\n",
       "      <th>0</th>\n",
       "      <td>26836993</td>\n",
       "      <td>Higher Level Teaching Assistant (HLTA)</td>\n",
       "      <td>uk</td>\n",
       "      <td>Protocol Education</td>\n",
       "      <td>part_time</td>\n",
       "      <td>NaN</td>\n",
       "      <td>Teaching Jobs</td>\n",
       "      <td>14400.00</td>\n",
       "      <td>2012-11-27 12:00:00</td>\n",
       "      <td>2012-12-27 12:00:00</td>\n",
       "      <td>www.jobhuntlisting.com</td>\n",
       "    </tr>\n",
       "    <tr>\n",
       "      <th>1</th>\n",
       "      <td>66519048</td>\n",
       "      <td>Software Developers / Software Architects  Not...</td>\n",
       "      <td>uk</td>\n",
       "      <td>Cordius Ltd</td>\n",
       "      <td>part_time</td>\n",
       "      <td>permanent</td>\n",
       "      <td>IT Jobs</td>\n",
       "      <td>37500.00</td>\n",
       "      <td>2013-06-26 15:00:00</td>\n",
       "      <td>2013-08-25 15:00:00</td>\n",
       "      <td>www.jobhuntlisting.com</td>\n",
       "    </tr>\n",
       "    <tr>\n",
       "      <th>2</th>\n",
       "      <td>53542920</td>\n",
       "      <td>Senior BI Consultant (Cognos)</td>\n",
       "      <td>walton-on-thames</td>\n",
       "      <td>Understanding Recruitment</td>\n",
       "      <td>part_time</td>\n",
       "      <td>permanent</td>\n",
       "      <td>IT Jobs</td>\n",
       "      <td>51999.96</td>\n",
       "      <td>2012-10-18 15:00:00</td>\n",
       "      <td>2013-01-16 15:00:00</td>\n",
       "      <td>www.jobhuntlisting.com</td>\n",
       "    </tr>\n",
       "    <tr>\n",
       "      <th>3</th>\n",
       "      <td>84705292</td>\n",
       "      <td>Technical Sales Manager, Pigments Fillers to S...</td>\n",
       "      <td>uk</td>\n",
       "      <td>Wallace Hind Selection</td>\n",
       "      <td>part_time</td>\n",
       "      <td>NaN</td>\n",
       "      <td>Sales Jobs</td>\n",
       "      <td>45000.00</td>\n",
       "      <td>2012-12-15 15:00:00</td>\n",
       "      <td>2013-02-13 15:00:00</td>\n",
       "      <td>www.jobhuntlisting.com</td>\n",
       "    </tr>\n",
       "    <tr>\n",
       "      <th>4</th>\n",
       "      <td>32833563</td>\n",
       "      <td>Channel Account Manager  Software</td>\n",
       "      <td>eastern england</td>\n",
       "      <td>Greenhill Group Ltd</td>\n",
       "      <td>part_time</td>\n",
       "      <td>NaN</td>\n",
       "      <td>Sales Jobs</td>\n",
       "      <td>35000.04</td>\n",
       "      <td>2012-12-29 12:00:00</td>\n",
       "      <td>2013-01-12 12:00:00</td>\n",
       "      <td>www.jobhuntlisting.com</td>\n",
       "    </tr>\n",
       "  </tbody>\n",
       "</table>\n",
       "</div>"
      ],
      "text/plain": [
       "         Id                                              Title  \\\n",
       "0  26836993             Higher Level Teaching Assistant (HLTA)   \n",
       "1  66519048  Software Developers / Software Architects  Not...   \n",
       "2  53542920                      Senior BI Consultant (Cognos)   \n",
       "3  84705292  Technical Sales Manager, Pigments Fillers to S...   \n",
       "4  32833563                  Channel Account Manager  Software   \n",
       "\n",
       "           Location                    Company ContractType ContractTime  \\\n",
       "0                uk         Protocol Education    part_time          NaN   \n",
       "1                uk                Cordius Ltd    part_time    permanent   \n",
       "2  walton-on-thames  Understanding Recruitment    part_time    permanent   \n",
       "3                uk     Wallace Hind Selection    part_time          NaN   \n",
       "4   eastern england        Greenhill Group Ltd    part_time          NaN   \n",
       "\n",
       "        Category    Salary            OpenDate           CloseDate  \\\n",
       "0  Teaching Jobs  14400.00 2012-11-27 12:00:00 2012-12-27 12:00:00   \n",
       "1        IT Jobs  37500.00 2013-06-26 15:00:00 2013-08-25 15:00:00   \n",
       "2        IT Jobs  51999.96 2012-10-18 15:00:00 2013-01-16 15:00:00   \n",
       "3     Sales Jobs  45000.00 2012-12-15 15:00:00 2013-02-13 15:00:00   \n",
       "4     Sales Jobs  35000.04 2012-12-29 12:00:00 2013-01-12 12:00:00   \n",
       "\n",
       "               SourceName  \n",
       "0  www.jobhuntlisting.com  \n",
       "1  www.jobhuntlisting.com  \n",
       "2  www.jobhuntlisting.com  \n",
       "3  www.jobhuntlisting.com  \n",
       "4  www.jobhuntlisting.com  "
      ]
     },
     "execution_count": 25,
     "metadata": {},
     "output_type": "execute_result"
    }
   ],
   "source": [
    "# Viewing the dataset after correcting the conflicts\n",
    "task2_data.head()"
   ]
  },
  {
   "cell_type": "code",
   "execution_count": 26,
   "metadata": {},
   "outputs": [
    {
     "data": {
      "text/plain": [
       "Id                       int64\n",
       "Title                   object\n",
       "Location                object\n",
       "Company                 object\n",
       "ContractType            object\n",
       "ContractTime            object\n",
       "Category                object\n",
       "Salary                 float64\n",
       "OpenDate        datetime64[ns]\n",
       "CloseDate       datetime64[ns]\n",
       "SourceName              object\n",
       "dtype: object"
      ]
     },
     "execution_count": 26,
     "metadata": {},
     "output_type": "execute_result"
    }
   ],
   "source": [
    "# Checking the datatypes of task1_data after resolving conflicts\n",
    "task1_data.dtypes"
   ]
  },
  {
   "cell_type": "code",
   "execution_count": 27,
   "metadata": {},
   "outputs": [
    {
     "data": {
      "text/plain": [
       "Id                       int64\n",
       "Title                   object\n",
       "Location                object\n",
       "Company                 object\n",
       "ContractType            object\n",
       "ContractTime            object\n",
       "Category                object\n",
       "Salary                 float64\n",
       "OpenDate        datetime64[ns]\n",
       "CloseDate       datetime64[ns]\n",
       "SourceName              object\n",
       "dtype: object"
      ]
     },
     "execution_count": 27,
     "metadata": {},
     "output_type": "execute_result"
    }
   ],
   "source": [
    "# Checking the datatypes of task2_data after resolving conflicts\n",
    "task2_data.dtypes"
   ]
  },
  {
   "cell_type": "markdown",
   "metadata": {},
   "source": [
    "......"
   ]
  },
  {
   "cell_type": "markdown",
   "metadata": {},
   "source": [
    "### 3. Merging data\n",
    "\n",
    "<span style=\"color: red\"> You might have complex notebook structure in this section, please feel free to create your own notebook structure. </span>"
   ]
  },
  {
   "cell_type": "code",
   "execution_count": 28,
   "metadata": {},
   "outputs": [
    {
     "data": {
      "text/html": [
       "<div>\n",
       "<style scoped>\n",
       "    .dataframe tbody tr th:only-of-type {\n",
       "        vertical-align: middle;\n",
       "    }\n",
       "\n",
       "    .dataframe tbody tr th {\n",
       "        vertical-align: top;\n",
       "    }\n",
       "\n",
       "    .dataframe thead th {\n",
       "        text-align: right;\n",
       "    }\n",
       "</style>\n",
       "<table border=\"1\" class=\"dataframe\">\n",
       "  <thead>\n",
       "    <tr style=\"text-align: right;\">\n",
       "      <th></th>\n",
       "      <th>Id</th>\n",
       "      <th>Title</th>\n",
       "      <th>Location</th>\n",
       "      <th>Company</th>\n",
       "      <th>ContractType</th>\n",
       "      <th>ContractTime</th>\n",
       "      <th>Category</th>\n",
       "      <th>Salary</th>\n",
       "      <th>OpenDate</th>\n",
       "      <th>CloseDate</th>\n",
       "      <th>SourceName</th>\n",
       "    </tr>\n",
       "  </thead>\n",
       "  <tbody>\n",
       "    <tr>\n",
       "      <th>0</th>\n",
       "      <td>63129905</td>\n",
       "      <td>Nursery Nurse, Liverpool</td>\n",
       "      <td>liverpool</td>\n",
       "      <td>Caring Services NW</td>\n",
       "      <td>full_time</td>\n",
       "      <td>contract</td>\n",
       "      <td>Teaching Jobs</td>\n",
       "      <td>12480.0</td>\n",
       "      <td>2013-09-17 15:00:00</td>\n",
       "      <td>2013-11-16 15:00:00</td>\n",
       "      <td>fish4.co.uk</td>\n",
       "    </tr>\n",
       "    <tr>\n",
       "      <th>1</th>\n",
       "      <td>69830611</td>\n",
       "      <td>Money/Welfare Advice Workers (x****)</td>\n",
       "      <td>uk</td>\n",
       "      <td>non-specified</td>\n",
       "      <td>full_time</td>\n",
       "      <td>contract</td>\n",
       "      <td>Accounting &amp; Finance Jobs</td>\n",
       "      <td>24700.0</td>\n",
       "      <td>2012-12-30 12:00:00</td>\n",
       "      <td>2013-02-28 12:00:00</td>\n",
       "      <td>fish4.co.uk</td>\n",
       "    </tr>\n",
       "    <tr>\n",
       "      <th>2</th>\n",
       "      <td>69219032</td>\n",
       "      <td>Senior Design Engineer  up to ****</td>\n",
       "      <td>uk</td>\n",
       "      <td>Huxley Associates</td>\n",
       "      <td>full_time</td>\n",
       "      <td>permanent</td>\n",
       "      <td>Engineering Jobs</td>\n",
       "      <td>37500.0</td>\n",
       "      <td>2012-09-03 15:00:00</td>\n",
       "      <td>2012-12-02 15:00:00</td>\n",
       "      <td>fish4.co.uk</td>\n",
       "    </tr>\n",
       "    <tr>\n",
       "      <th>3</th>\n",
       "      <td>69221223</td>\n",
       "      <td>Photocopier Service Engineer</td>\n",
       "      <td>manchester</td>\n",
       "      <td>ETS Technical Selection</td>\n",
       "      <td>full_time</td>\n",
       "      <td>permanent</td>\n",
       "      <td>IT Jobs</td>\n",
       "      <td>20000.0</td>\n",
       "      <td>2013-12-31 12:00:00</td>\n",
       "      <td>2014-03-31 12:00:00</td>\n",
       "      <td>fish4.co.uk</td>\n",
       "    </tr>\n",
       "    <tr>\n",
       "      <th>4</th>\n",
       "      <td>69191387</td>\n",
       "      <td>Digital Advertising Sales Executive (Leading O...</td>\n",
       "      <td>aberdeen</td>\n",
       "      <td>Choice Consultants</td>\n",
       "      <td>full_time</td>\n",
       "      <td>permanent</td>\n",
       "      <td>PR, Advertising &amp; Marketing Jobs</td>\n",
       "      <td>12500.0</td>\n",
       "      <td>2013-06-14 00:00:00</td>\n",
       "      <td>2013-09-12 00:00:00</td>\n",
       "      <td>fish4.co.uk</td>\n",
       "    </tr>\n",
       "    <tr>\n",
       "      <th>5</th>\n",
       "      <td>69214043</td>\n",
       "      <td>Performing Arts Drama Music Art QTS Supply Tea...</td>\n",
       "      <td>tamworth</td>\n",
       "      <td>Aspire People Limited</td>\n",
       "      <td>part_time</td>\n",
       "      <td>permanent</td>\n",
       "      <td>Teaching Jobs</td>\n",
       "      <td>28800.0</td>\n",
       "      <td>2013-09-09 00:00:00</td>\n",
       "      <td>2013-10-09 00:00:00</td>\n",
       "      <td>fish4.co.uk</td>\n",
       "    </tr>\n",
       "    <tr>\n",
       "      <th>6</th>\n",
       "      <td>62111940</td>\n",
       "      <td>Systems Design / Weapons Systems Engineers</td>\n",
       "      <td>bristol</td>\n",
       "      <td>Mass Consultants Ltd</td>\n",
       "      <td>full_time</td>\n",
       "      <td>permanent</td>\n",
       "      <td>Engineering Jobs</td>\n",
       "      <td>45000.0</td>\n",
       "      <td>2012-11-23 12:00:00</td>\n",
       "      <td>2012-12-23 12:00:00</td>\n",
       "      <td>fish4.co.uk</td>\n",
       "    </tr>\n",
       "    <tr>\n",
       "      <th>7</th>\n",
       "      <td>70321231</td>\n",
       "      <td>Internal Sales Supervisor  Berkshire</td>\n",
       "      <td>uk</td>\n",
       "      <td>Additional Resources</td>\n",
       "      <td>full_time</td>\n",
       "      <td>permanent</td>\n",
       "      <td>Sales Jobs</td>\n",
       "      <td>45000.0</td>\n",
       "      <td>2013-05-19 00:00:00</td>\n",
       "      <td>2013-06-18 00:00:00</td>\n",
       "      <td>fish4.co.uk</td>\n",
       "    </tr>\n",
       "    <tr>\n",
       "      <th>8</th>\n",
       "      <td>62113885</td>\n",
       "      <td>Teacher of Psychology</td>\n",
       "      <td>uk</td>\n",
       "      <td>Strategy Education</td>\n",
       "      <td>full_time</td>\n",
       "      <td>permanent</td>\n",
       "      <td>Teaching Jobs</td>\n",
       "      <td>32400.0</td>\n",
       "      <td>2013-09-01 15:00:00</td>\n",
       "      <td>2013-10-01 15:00:00</td>\n",
       "      <td>fish4.co.uk</td>\n",
       "    </tr>\n",
       "    <tr>\n",
       "      <th>9</th>\n",
       "      <td>68509853</td>\n",
       "      <td>Team Leader/Support Coordinator</td>\n",
       "      <td>cheshire</td>\n",
       "      <td>non-specified</td>\n",
       "      <td>full_time</td>\n",
       "      <td>permanent</td>\n",
       "      <td>Healthcare &amp; Nursing Jobs</td>\n",
       "      <td>20396.0</td>\n",
       "      <td>2012-04-09 15:00:00</td>\n",
       "      <td>2012-07-08 15:00:00</td>\n",
       "      <td>fish4.co.uk</td>\n",
       "    </tr>\n",
       "  </tbody>\n",
       "</table>\n",
       "</div>"
      ],
      "text/plain": [
       "         Id                                              Title    Location  \\\n",
       "0  63129905                           Nursery Nurse, Liverpool   liverpool   \n",
       "1  69830611               Money/Welfare Advice Workers (x****)          uk   \n",
       "2  69219032                 Senior Design Engineer  up to ****          uk   \n",
       "3  69221223                       Photocopier Service Engineer  manchester   \n",
       "4  69191387  Digital Advertising Sales Executive (Leading O...    aberdeen   \n",
       "5  69214043  Performing Arts Drama Music Art QTS Supply Tea...    tamworth   \n",
       "6  62111940         Systems Design / Weapons Systems Engineers     bristol   \n",
       "7  70321231               Internal Sales Supervisor  Berkshire          uk   \n",
       "8  62113885                              Teacher of Psychology          uk   \n",
       "9  68509853                    Team Leader/Support Coordinator    cheshire   \n",
       "\n",
       "                   Company ContractType ContractTime  \\\n",
       "0       Caring Services NW    full_time     contract   \n",
       "1            non-specified    full_time     contract   \n",
       "2        Huxley Associates    full_time    permanent   \n",
       "3  ETS Technical Selection    full_time    permanent   \n",
       "4       Choice Consultants    full_time    permanent   \n",
       "5    Aspire People Limited    part_time    permanent   \n",
       "6     Mass Consultants Ltd    full_time    permanent   \n",
       "7     Additional Resources    full_time    permanent   \n",
       "8       Strategy Education    full_time    permanent   \n",
       "9            non-specified    full_time    permanent   \n",
       "\n",
       "                           Category   Salary            OpenDate  \\\n",
       "0                     Teaching Jobs  12480.0 2013-09-17 15:00:00   \n",
       "1         Accounting & Finance Jobs  24700.0 2012-12-30 12:00:00   \n",
       "2                  Engineering Jobs  37500.0 2012-09-03 15:00:00   \n",
       "3                           IT Jobs  20000.0 2013-12-31 12:00:00   \n",
       "4  PR, Advertising & Marketing Jobs  12500.0 2013-06-14 00:00:00   \n",
       "5                     Teaching Jobs  28800.0 2013-09-09 00:00:00   \n",
       "6                  Engineering Jobs  45000.0 2012-11-23 12:00:00   \n",
       "7                        Sales Jobs  45000.0 2013-05-19 00:00:00   \n",
       "8                     Teaching Jobs  32400.0 2013-09-01 15:00:00   \n",
       "9         Healthcare & Nursing Jobs  20396.0 2012-04-09 15:00:00   \n",
       "\n",
       "            CloseDate   SourceName  \n",
       "0 2013-11-16 15:00:00  fish4.co.uk  \n",
       "1 2013-02-28 12:00:00  fish4.co.uk  \n",
       "2 2012-12-02 15:00:00  fish4.co.uk  \n",
       "3 2014-03-31 12:00:00  fish4.co.uk  \n",
       "4 2013-09-12 00:00:00  fish4.co.uk  \n",
       "5 2013-10-09 00:00:00  fish4.co.uk  \n",
       "6 2012-12-23 12:00:00  fish4.co.uk  \n",
       "7 2013-06-18 00:00:00  fish4.co.uk  \n",
       "8 2013-10-01 15:00:00  fish4.co.uk  \n",
       "9 2012-07-08 15:00:00  fish4.co.uk  "
      ]
     },
     "execution_count": 28,
     "metadata": {},
     "output_type": "execute_result"
    }
   ],
   "source": [
    "# Code to merge two data sets\n",
    "task3_data_integrated = pd.concat([task1_data, task2_data], ignore_index=True)\n",
    "task3_data_integrated.head(10)"
   ]
  },
  {
   "cell_type": "markdown",
   "metadata": {},
   "source": [
    "### 4. Resolving data conflicts:\n",
    "Give some general information about the data conflicts you found in the unified table and how you resolve them.\n",
    "\n",
    "<span style=\"color: red\"> You might have complex notebook structure in this section, please feel free to create your own notebook structure. </span>"
   ]
  },
  {
   "cell_type": "markdown",
   "metadata": {},
   "source": [
    "#### Conflict 1: Check for duplicates\n",
    "Here, the newly merged dataset is checked for the presence of any duplicate values/entries."
   ]
  },
  {
   "cell_type": "code",
   "execution_count": 29,
   "metadata": {},
   "outputs": [
    {
     "data": {
      "text/plain": [
       "0"
      ]
     },
     "execution_count": 29,
     "metadata": {},
     "output_type": "execute_result"
    }
   ],
   "source": [
    "# Code to inspect data and identify conflicts in data\n",
    "# Code to fix the conflict\n",
    "task3_data_integrated.duplicated().sum()"
   ]
  },
  {
   "cell_type": "markdown",
   "metadata": {},
   "source": [
    "#### Conflict 2: Check for nan and replacing it to 'non-specified'\n",
    "Here, the newly merged dataset is checked for the presence of any nan values, if so, it is changed to 'non-specified'"
   ]
  },
  {
   "cell_type": "code",
   "execution_count": 30,
   "metadata": {},
   "outputs": [],
   "source": [
    "task3_data_integrated.replace(np.nan, 'non-specified', inplace=True)"
   ]
  },
  {
   "cell_type": "markdown",
   "metadata": {},
   "source": [
    "......"
   ]
  },
  {
   "cell_type": "markdown",
   "metadata": {},
   "source": [
    "#### Finding global key for the data\n",
    "A key should be an unique value without any duplicates. Hence, choosing column **'Id'** as a key since it is unique without any duplicates. "
   ]
  },
  {
   "cell_type": "code",
   "execution_count": 31,
   "metadata": {},
   "outputs": [
    {
     "data": {
      "text/plain": [
       "0"
      ]
     },
     "execution_count": 31,
     "metadata": {},
     "output_type": "execute_result"
    }
   ],
   "source": [
    "# Code to identify global key\n",
    "task3_data_integrated.duplicated(subset=['Id']).sum()"
   ]
  },
  {
   "cell_type": "markdown",
   "metadata": {},
   "source": [
    "......."
   ]
  },
  {
   "cell_type": "markdown",
   "metadata": {},
   "source": [
    "### 5. Saving the integrated and reshaped data\n",
    "The last part of the integration process is to export our output data to csv format, named as:\n",
    "- '\\<student\\_id\\>_dataset_integrated.csv'"
   ]
  },
  {
   "cell_type": "code",
   "execution_count": 32,
   "metadata": {},
   "outputs": [],
   "source": [
    "# code to save output data\n",
    "task3_data_integrated.to_csv('s3959200_dataset_integrated.csv', index=False)"
   ]
  },
  {
   "cell_type": "markdown",
   "metadata": {},
   "source": [
    "## Summary of the Assessment Task\n",
    "Give a short summary and anything you would like to talk about this assessment task here.\n",
    "\n",
    "- In this task, I have learnt how to merge two datasets by analyzing, spotting and resolving the conflicts both in schema level and data level one by one.\n",
    "- Finding a global key attribute for the dataset."
   ]
  }
 ],
 "metadata": {
  "kernelspec": {
   "display_name": "Python 3",
   "language": "python",
   "name": "python3"
  },
  "language_info": {
   "codemirror_mode": {
    "name": "ipython",
    "version": 3
   },
   "file_extension": ".py",
   "mimetype": "text/x-python",
   "name": "python",
   "nbconvert_exporter": "python",
   "pygments_lexer": "ipython3",
   "version": "3.8.8"
  }
 },
 "nbformat": 4,
 "nbformat_minor": 1
}
